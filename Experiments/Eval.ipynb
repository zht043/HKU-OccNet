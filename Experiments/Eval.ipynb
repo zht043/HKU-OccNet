{
 "cells": [
  {
   "cell_type": "code",
   "execution_count": 2,
   "id": "fdab5ca9-8b67-46e0-98b3-36837c089eee",
   "metadata": {
    "tags": []
   },
   "outputs": [
    {
     "name": "stdout",
     "output_type": "stream",
     "text": [
      "cuda:0\n"
     ]
    }
   ],
   "source": [
    "from PIL import Image\n",
    "import argparse\n",
    "import matplotlib.pyplot as plt\n",
    "import sys\n",
    "import random\n",
    "import numpy as np\n",
    "import os\n",
    "\n",
    "import cv2\n",
    "import torch\n",
    "import torch.nn as nn\n",
    "import torch.nn.functional as F\n",
    "from torchvision import transforms\n",
    "from torch.utils.data import Dataset, DataLoader\n",
    "from torchsummary import summary\n",
    "\n",
    "import bqplot.scales\n",
    "import ipyvolume as ipv\n",
    "import ipywidgets as widgets\n",
    "\n",
    "\n",
    "device = torch.device(\"cuda:0\" if torch.cuda.is_available() else \"cpu\") \n",
    "print(device)"
   ]
  },
  {
   "cell_type": "code",
   "execution_count": null,
   "id": "fb41eb75-45bf-4330-bef9-bfe4d40afef2",
   "metadata": {},
   "outputs": [],
   "source": [
    "sys.path.append(\"/workspace/HKU-OccNet/\")\n",
    "from utils import SemanticKITTIDataset\n",
    "from utils import visualize_labeled_array3d\n",
    "from utils import plot_tensor2d\n",
    "from torch.utils.data import random_split\n",
    "\n",
    "KITTI_DIR = \"/workspace/Dataset/dataset\"\n",
    "\n",
    "\n",
    "\n",
    "train_set = SemanticKITTIDataset(root_dir=KITTI_DIR, mode='train', \n",
    "                                 sequences=['00'], split_ratio=0.05)\n",
    "\n",
    "split_idx = int(0.8 * len(train_set))\n",
    "train_subset, val_subset = random_split(train_set, [split_idx, len(train_set) - split_idx])\n",
    "\n",
    "\n",
    "print(len(train_subset))  # 训练集子集的长度\n",
    "print(len(val_subset))    # 验证集子集的长度\n",
    "\n",
    "num_classes = len(train_set.class_names)\n",
    "class_weights = train_set.class_weights\n",
    "\n",
    "img_width, img_height = 1241, 376"
   ]
  },
  {
   "cell_type": "code",
   "execution_count": null,
   "id": "632aebc9-d236-4264-ba26-c7d89c0107a5",
   "metadata": {},
   "outputs": [],
   "source": []
  },
  {
   "cell_type": "code",
   "execution_count": null,
   "id": "b323b2a1-1f03-49e0-9336-3c7eff170456",
   "metadata": {},
   "outputs": [],
   "source": []
  },
  {
   "cell_type": "code",
   "execution_count": null,
   "id": "a9da1d4b-aaf2-4c82-9833-fa7361109849",
   "metadata": {},
   "outputs": [],
   "source": []
  },
  {
   "cell_type": "code",
   "execution_count": null,
   "id": "410a1a0b-b6db-4817-aff3-b227cbd7f1c9",
   "metadata": {},
   "outputs": [],
   "source": []
  }
 ],
 "metadata": {
  "kernelspec": {
   "display_name": "Python 3 (ipykernel)",
   "language": "python",
   "name": "python3"
  },
  "language_info": {
   "codemirror_mode": {
    "name": "ipython",
    "version": 3
   },
   "file_extension": ".py",
   "mimetype": "text/x-python",
   "name": "python",
   "nbconvert_exporter": "python",
   "pygments_lexer": "ipython3",
   "version": "3.7.13"
  }
 },
 "nbformat": 4,
 "nbformat_minor": 5
}
