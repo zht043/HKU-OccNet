{
 "cells": [
  {
   "cell_type": "code",
   "execution_count": 1,
   "id": "46b148db-e8eb-48ff-940d-a033a9ec973a",
   "metadata": {
    "tags": []
   },
   "outputs": [
    {
     "name": "stdout",
     "output_type": "stream",
     "text": [
      "cuda:0\n"
     ]
    }
   ],
   "source": [
    "from PIL import Image\n",
    "import argparse\n",
    "import matplotlib.pyplot as plt\n",
    "import sys\n",
    "import random\n",
    "import numpy as np\n",
    "import os\n",
    "\n",
    "import cv2\n",
    "import torch\n",
    "import torch.nn as nn\n",
    "import torch.nn.functional as F\n",
    "from torchvision import transforms\n",
    "from torch.utils.data import Dataset, DataLoader\n",
    "from torchsummary import summary\n",
    "\n",
    "import bqplot.scales\n",
    "import ipyvolume as ipv\n",
    "import ipywidgets as widgets\n",
    "\n",
    "from collections import OrderedDict\n",
    "\n",
    "device = torch.device(\"cuda:0\" if torch.cuda.is_available() else \"cpu\") \n",
    "print(device)\n"
   ]
  },
  {
   "cell_type": "code",
   "execution_count": 2,
   "id": "bd8b321f-1bd6-4876-9e49-41c25ed16d76",
   "metadata": {
    "tags": []
   },
   "outputs": [],
   "source": [
    "def inference(model, x, device):\n",
    "    model.eval()\n",
    "    model.to(device)\n",
    "    with torch.no_grad():\n",
    "        out = model(x)\n",
    "    return out\n",
    "\n",
    "def generate_left_right_ssc(model, left_img, right_img, device):\n",
    "    ssc_pred_left = inference(model, build_monoscene_input(left_img), device)\n",
    "    ssc_pred_left = torch.argmax(ssc_pred_left, dim=1)[0,:,:,:]\n",
    "    ssc_pred_left = ssc_pred_left.squeeze(0)\n",
    "    ssc_pred_right = inference(model, build_monoscene_input(right_img), device)\n",
    "    ssc_pred_right = torch.argmax(ssc_pred_right, dim=1)[0,:,:,:]\n",
    "    ssc_pred_right = ssc_pred_right.squeeze(0)\n",
    "    return ssc_pred_left, ssc_pred_right"
   ]
  },
  {
   "cell_type": "code",
   "execution_count": null,
   "id": "629a8ddf-c437-4e9f-86bc-811b40b292bc",
   "metadata": {},
   "outputs": [],
   "source": []
  },
  {
   "cell_type": "code",
   "execution_count": 5,
   "id": "479f3cee-cfdf-4a28-984d-90caa96fc47a",
   "metadata": {
    "tags": []
   },
   "outputs": [],
   "source": [
    "sys.path.append(\"/workspace/HKU-OccNet/\")\n",
    "from utils import SemanticKITTIDataset\n",
    "from utils import visualize_labeled_array3d\n",
    "from utils import plot_tensor2d\n",
    "from torch.utils.data import random_split\n",
    "from utils.monoscene_utils import *\n",
    "\n",
    "KITTI_DIR = \"/workspace/Dataset/dataset\"\n",
    "\n",
    "\n",
    "\n",
    "train_set = SemanticKITTIDataset(root_dir=KITTI_DIR, mode='train', \n",
    "                                 sequences=['00'], split_ratio=0.1)\n",
    "\n",
    "\n",
    "\n",
    "\n",
    "\n",
    "num_classes = len(train_set.class_names)\n",
    "class_weights = train_set.class_weights\n",
    "\n",
    "img_width, img_height = 1241, 376\n",
    "\n",
    "\n",
    "\n",
    "calib = read_calib(\"/workspace/HKU-OccNet/calib.txt\")\n",
    "\n",
    "#get_projections(img_width, img_height, calib)"
   ]
  },
  {
   "cell_type": "code",
   "execution_count": null,
   "id": "1a5e07f5-f23d-4bcb-91e9-3f630817c6c3",
   "metadata": {},
   "outputs": [],
   "source": []
  },
  {
   "cell_type": "code",
   "execution_count": null,
   "id": "9dc71ec5-46bb-43d7-bad6-f8abd0fcfb6b",
   "metadata": {},
   "outputs": [],
   "source": []
  },
  {
   "cell_type": "code",
   "execution_count": null,
   "id": "ca1b11e8-3e4c-4cdd-8124-cad621ad9775",
   "metadata": {},
   "outputs": [],
   "source": []
  },
  {
   "cell_type": "code",
   "execution_count": null,
   "id": "c16c25aa-b717-4a3a-b6de-f7e4290d3ca1",
   "metadata": {},
   "outputs": [],
   "source": []
  },
  {
   "cell_type": "code",
   "execution_count": null,
   "id": "91b9ebac-c555-4d9a-be92-2ffeb92ad43c",
   "metadata": {},
   "outputs": [],
   "source": []
  },
  {
   "cell_type": "code",
   "execution_count": null,
   "id": "a42fad42-1ab2-4f29-8f3c-dcc59b81912b",
   "metadata": {},
   "outputs": [],
   "source": []
  },
  {
   "cell_type": "code",
   "execution_count": null,
   "id": "aa0f978b-5824-4a74-ad93-c588eee80642",
   "metadata": {},
   "outputs": [],
   "source": []
  },
  {
   "cell_type": "code",
   "execution_count": null,
   "id": "76c453f3-353f-443d-b53f-4fabb1166b69",
   "metadata": {},
   "outputs": [],
   "source": []
  },
  {
   "cell_type": "code",
   "execution_count": null,
   "id": "db1d708b-45e8-41e8-9d0f-2f4fef0f10c2",
   "metadata": {},
   "outputs": [],
   "source": []
  },
  {
   "cell_type": "code",
   "execution_count": null,
   "id": "b57ffbc2-3941-49e4-8572-9696cd6ef6dd",
   "metadata": {},
   "outputs": [],
   "source": []
  },
  {
   "cell_type": "code",
   "execution_count": 7,
   "id": "8ea8f32d-0361-4763-a0bd-68387699d7f3",
   "metadata": {
    "tags": []
   },
   "outputs": [
    {
     "ename": "FileNotFoundError",
     "evalue": "[Errno 2] No such file or directory: '/workspace/PretrainedWeights/monoscene_kitti.ckpt'",
     "output_type": "error",
     "traceback": [
      "\u001b[0;31m---------------------------------------------------------------------------\u001b[0m",
      "\u001b[0;31mFileNotFoundError\u001b[0m                         Traceback (most recent call last)",
      "Cell \u001b[0;32mIn[7], line 7\u001b[0m\n\u001b[1;32m      2\u001b[0m \u001b[38;5;28;01mfrom\u001b[39;00m \u001b[38;5;21;01mutils\u001b[39;00m\u001b[38;5;21;01m.\u001b[39;00m\u001b[38;5;21;01mmonoscene_utils\u001b[39;00m \u001b[38;5;28;01mimport\u001b[39;00m \u001b[38;5;241m*\u001b[39m\n\u001b[1;32m      4\u001b[0m pretrained_weight_path \u001b[38;5;241m=\u001b[39m \u001b[38;5;124m'\u001b[39m\u001b[38;5;124m/workspace/PretrainedWeights/monoscene_kitti.ckpt\u001b[39m\u001b[38;5;124m'\u001b[39m\n\u001b[0;32m----> 7\u001b[0m monoscene_pt \u001b[38;5;241m=\u001b[39m \u001b[43mMonoScene\u001b[49m\u001b[38;5;241;43m.\u001b[39;49m\u001b[43mload_from_checkpoint\u001b[49m\u001b[43m(\u001b[49m\n\u001b[1;32m      8\u001b[0m \u001b[43m        \u001b[49m\u001b[43mpretrained_weight_path\u001b[49m\u001b[43m,\u001b[49m\n\u001b[1;32m      9\u001b[0m \u001b[43m        \u001b[49m\u001b[43mdataset\u001b[49m\u001b[38;5;241;43m=\u001b[39;49m\u001b[38;5;124;43m\"\u001b[39;49m\u001b[38;5;124;43mkitti\u001b[39;49m\u001b[38;5;124;43m\"\u001b[39;49m\u001b[43m,\u001b[49m\n\u001b[1;32m     10\u001b[0m \u001b[43m        \u001b[49m\u001b[43mn_classes\u001b[49m\u001b[38;5;241;43m=\u001b[39;49m\u001b[38;5;241;43m20\u001b[39;49m\u001b[43m,\u001b[49m\n\u001b[1;32m     11\u001b[0m \u001b[43m        \u001b[49m\u001b[43mfeature\u001b[49m\u001b[43m \u001b[49m\u001b[38;5;241;43m=\u001b[39;49m\u001b[43m \u001b[49m\u001b[38;5;241;43m64\u001b[39;49m\u001b[43m,\u001b[49m\n\u001b[1;32m     12\u001b[0m \u001b[43m        \u001b[49m\u001b[43mproject_scale\u001b[49m\u001b[43m \u001b[49m\u001b[38;5;241;43m=\u001b[39;49m\u001b[43m \u001b[49m\u001b[38;5;241;43m2\u001b[39;49m\u001b[43m,\u001b[49m\n\u001b[1;32m     13\u001b[0m \u001b[43m        \u001b[49m\u001b[43mfull_scene_size\u001b[49m\u001b[43m \u001b[49m\u001b[38;5;241;43m=\u001b[39;49m\u001b[43m \u001b[49m\u001b[43m(\u001b[49m\u001b[38;5;241;43m256\u001b[39;49m\u001b[43m,\u001b[49m\u001b[43m \u001b[49m\u001b[38;5;241;43m256\u001b[39;49m\u001b[43m,\u001b[49m\u001b[43m \u001b[49m\u001b[38;5;241;43m32\u001b[39;49m\u001b[43m)\u001b[49m\u001b[43m,\u001b[49m\n\u001b[1;32m     14\u001b[0m \u001b[43m)\u001b[49m\n\u001b[1;32m     16\u001b[0m \u001b[38;5;28;01mdef\u001b[39;00m \u001b[38;5;21mbuild_monoscene_input\u001b[39m(img):\n\u001b[1;32m     17\u001b[0m     img \u001b[38;5;241m=\u001b[39m img\u001b[38;5;241m.\u001b[39munsqueeze(\u001b[38;5;241m0\u001b[39m)\n",
      "File \u001b[0;32m/opt/conda/lib/python3.10/site-packages/pytorch_lightning/core/module.py:1552\u001b[0m, in \u001b[0;36mLightningModule.load_from_checkpoint\u001b[0;34m(cls, checkpoint_path, map_location, hparams_file, strict, **kwargs)\u001b[0m\n\u001b[1;32m   1471\u001b[0m \u001b[38;5;129m@_restricted_classmethod\u001b[39m\n\u001b[1;32m   1472\u001b[0m \u001b[38;5;28;01mdef\u001b[39;00m \u001b[38;5;21mload_from_checkpoint\u001b[39m(\n\u001b[1;32m   1473\u001b[0m     \u001b[38;5;28mcls\u001b[39m,\n\u001b[0;32m   (...)\u001b[0m\n\u001b[1;32m   1478\u001b[0m     \u001b[38;5;241m*\u001b[39m\u001b[38;5;241m*\u001b[39mkwargs: Any,\n\u001b[1;32m   1479\u001b[0m ) \u001b[38;5;241m-\u001b[39m\u001b[38;5;241m>\u001b[39m Self:\n\u001b[1;32m   1480\u001b[0m \u001b[38;5;250m    \u001b[39m\u001b[38;5;124mr\u001b[39m\u001b[38;5;124;03m\"\"\"Primary way of loading a model from a checkpoint. When Lightning saves a checkpoint it stores the arguments\u001b[39;00m\n\u001b[1;32m   1481\u001b[0m \u001b[38;5;124;03m    passed to ``__init__``  in the checkpoint under ``\"hyper_parameters\"``.\u001b[39;00m\n\u001b[1;32m   1482\u001b[0m \n\u001b[0;32m   (...)\u001b[0m\n\u001b[1;32m   1550\u001b[0m \n\u001b[1;32m   1551\u001b[0m \u001b[38;5;124;03m    \"\"\"\u001b[39;00m\n\u001b[0;32m-> 1552\u001b[0m     loaded \u001b[38;5;241m=\u001b[39m \u001b[43m_load_from_checkpoint\u001b[49m\u001b[43m(\u001b[49m\n\u001b[1;32m   1553\u001b[0m \u001b[43m        \u001b[49m\u001b[38;5;28;43mcls\u001b[39;49m\u001b[43m,\u001b[49m\u001b[43m  \u001b[49m\u001b[38;5;66;43;03m# type: ignore[arg-type]\u001b[39;49;00m\n\u001b[1;32m   1554\u001b[0m \u001b[43m        \u001b[49m\u001b[43mcheckpoint_path\u001b[49m\u001b[43m,\u001b[49m\n\u001b[1;32m   1555\u001b[0m \u001b[43m        \u001b[49m\u001b[43mmap_location\u001b[49m\u001b[43m,\u001b[49m\n\u001b[1;32m   1556\u001b[0m \u001b[43m        \u001b[49m\u001b[43mhparams_file\u001b[49m\u001b[43m,\u001b[49m\n\u001b[1;32m   1557\u001b[0m \u001b[43m        \u001b[49m\u001b[43mstrict\u001b[49m\u001b[43m,\u001b[49m\n\u001b[1;32m   1558\u001b[0m \u001b[43m        \u001b[49m\u001b[38;5;241;43m*\u001b[39;49m\u001b[38;5;241;43m*\u001b[39;49m\u001b[43mkwargs\u001b[49m\u001b[43m,\u001b[49m\n\u001b[1;32m   1559\u001b[0m \u001b[43m    \u001b[49m\u001b[43m)\u001b[49m\n\u001b[1;32m   1560\u001b[0m     \u001b[38;5;28;01mreturn\u001b[39;00m cast(Self, loaded)\n",
      "File \u001b[0;32m/opt/conda/lib/python3.10/site-packages/pytorch_lightning/core/saving.py:61\u001b[0m, in \u001b[0;36m_load_from_checkpoint\u001b[0;34m(cls, checkpoint_path, map_location, hparams_file, strict, **kwargs)\u001b[0m\n\u001b[1;32m     59\u001b[0m map_location \u001b[38;5;241m=\u001b[39m map_location \u001b[38;5;129;01mor\u001b[39;00m _default_map_location\n\u001b[1;32m     60\u001b[0m \u001b[38;5;28;01mwith\u001b[39;00m pl_legacy_patch():\n\u001b[0;32m---> 61\u001b[0m     checkpoint \u001b[38;5;241m=\u001b[39m \u001b[43mpl_load\u001b[49m\u001b[43m(\u001b[49m\u001b[43mcheckpoint_path\u001b[49m\u001b[43m,\u001b[49m\u001b[43m \u001b[49m\u001b[43mmap_location\u001b[49m\u001b[38;5;241;43m=\u001b[39;49m\u001b[43mmap_location\u001b[49m\u001b[43m)\u001b[49m\n\u001b[1;32m     63\u001b[0m \u001b[38;5;66;03m# convert legacy checkpoints to the new format\u001b[39;00m\n\u001b[1;32m     64\u001b[0m checkpoint \u001b[38;5;241m=\u001b[39m _pl_migrate_checkpoint(\n\u001b[1;32m     65\u001b[0m     checkpoint, checkpoint_path\u001b[38;5;241m=\u001b[39m(checkpoint_path \u001b[38;5;28;01mif\u001b[39;00m \u001b[38;5;28misinstance\u001b[39m(checkpoint_path, (\u001b[38;5;28mstr\u001b[39m, Path)) \u001b[38;5;28;01melse\u001b[39;00m \u001b[38;5;28;01mNone\u001b[39;00m)\n\u001b[1;32m     66\u001b[0m )\n",
      "File \u001b[0;32m/opt/conda/lib/python3.10/site-packages/lightning_fabric/utilities/cloud_io.py:54\u001b[0m, in \u001b[0;36m_load\u001b[0;34m(path_or_url, map_location)\u001b[0m\n\u001b[1;32m     49\u001b[0m     \u001b[38;5;28;01mreturn\u001b[39;00m torch\u001b[38;5;241m.\u001b[39mhub\u001b[38;5;241m.\u001b[39mload_state_dict_from_url(\n\u001b[1;32m     50\u001b[0m         \u001b[38;5;28mstr\u001b[39m(path_or_url),\n\u001b[1;32m     51\u001b[0m         map_location\u001b[38;5;241m=\u001b[39mmap_location,  \u001b[38;5;66;03m# type: ignore[arg-type]\u001b[39;00m\n\u001b[1;32m     52\u001b[0m     )\n\u001b[1;32m     53\u001b[0m fs \u001b[38;5;241m=\u001b[39m get_filesystem(path_or_url)\n\u001b[0;32m---> 54\u001b[0m \u001b[38;5;28;01mwith\u001b[39;00m \u001b[43mfs\u001b[49m\u001b[38;5;241;43m.\u001b[39;49m\u001b[43mopen\u001b[49m\u001b[43m(\u001b[49m\u001b[43mpath_or_url\u001b[49m\u001b[43m,\u001b[49m\u001b[43m \u001b[49m\u001b[38;5;124;43m\"\u001b[39;49m\u001b[38;5;124;43mrb\u001b[39;49m\u001b[38;5;124;43m\"\u001b[39;49m\u001b[43m)\u001b[49m \u001b[38;5;28;01mas\u001b[39;00m f:\n\u001b[1;32m     55\u001b[0m     \u001b[38;5;28;01mreturn\u001b[39;00m torch\u001b[38;5;241m.\u001b[39mload(f, map_location\u001b[38;5;241m=\u001b[39mmap_location)\n",
      "File \u001b[0;32m/opt/conda/lib/python3.10/site-packages/fsspec/spec.py:1307\u001b[0m, in \u001b[0;36mAbstractFileSystem.open\u001b[0;34m(self, path, mode, block_size, cache_options, compression, **kwargs)\u001b[0m\n\u001b[1;32m   1305\u001b[0m \u001b[38;5;28;01melse\u001b[39;00m:\n\u001b[1;32m   1306\u001b[0m     ac \u001b[38;5;241m=\u001b[39m kwargs\u001b[38;5;241m.\u001b[39mpop(\u001b[38;5;124m\"\u001b[39m\u001b[38;5;124mautocommit\u001b[39m\u001b[38;5;124m\"\u001b[39m, \u001b[38;5;129;01mnot\u001b[39;00m \u001b[38;5;28mself\u001b[39m\u001b[38;5;241m.\u001b[39m_intrans)\n\u001b[0;32m-> 1307\u001b[0m     f \u001b[38;5;241m=\u001b[39m \u001b[38;5;28;43mself\u001b[39;49m\u001b[38;5;241;43m.\u001b[39;49m\u001b[43m_open\u001b[49m\u001b[43m(\u001b[49m\n\u001b[1;32m   1308\u001b[0m \u001b[43m        \u001b[49m\u001b[43mpath\u001b[49m\u001b[43m,\u001b[49m\n\u001b[1;32m   1309\u001b[0m \u001b[43m        \u001b[49m\u001b[43mmode\u001b[49m\u001b[38;5;241;43m=\u001b[39;49m\u001b[43mmode\u001b[49m\u001b[43m,\u001b[49m\n\u001b[1;32m   1310\u001b[0m \u001b[43m        \u001b[49m\u001b[43mblock_size\u001b[49m\u001b[38;5;241;43m=\u001b[39;49m\u001b[43mblock_size\u001b[49m\u001b[43m,\u001b[49m\n\u001b[1;32m   1311\u001b[0m \u001b[43m        \u001b[49m\u001b[43mautocommit\u001b[49m\u001b[38;5;241;43m=\u001b[39;49m\u001b[43mac\u001b[49m\u001b[43m,\u001b[49m\n\u001b[1;32m   1312\u001b[0m \u001b[43m        \u001b[49m\u001b[43mcache_options\u001b[49m\u001b[38;5;241;43m=\u001b[39;49m\u001b[43mcache_options\u001b[49m\u001b[43m,\u001b[49m\n\u001b[1;32m   1313\u001b[0m \u001b[43m        \u001b[49m\u001b[38;5;241;43m*\u001b[39;49m\u001b[38;5;241;43m*\u001b[39;49m\u001b[43mkwargs\u001b[49m\u001b[43m,\u001b[49m\n\u001b[1;32m   1314\u001b[0m \u001b[43m    \u001b[49m\u001b[43m)\u001b[49m\n\u001b[1;32m   1315\u001b[0m     \u001b[38;5;28;01mif\u001b[39;00m compression \u001b[38;5;129;01mis\u001b[39;00m \u001b[38;5;129;01mnot\u001b[39;00m \u001b[38;5;28;01mNone\u001b[39;00m:\n\u001b[1;32m   1316\u001b[0m         \u001b[38;5;28;01mfrom\u001b[39;00m \u001b[38;5;21;01mfsspec\u001b[39;00m\u001b[38;5;21;01m.\u001b[39;00m\u001b[38;5;21;01mcompression\u001b[39;00m \u001b[38;5;28;01mimport\u001b[39;00m compr\n",
      "File \u001b[0;32m/opt/conda/lib/python3.10/site-packages/fsspec/implementations/local.py:180\u001b[0m, in \u001b[0;36mLocalFileSystem._open\u001b[0;34m(self, path, mode, block_size, **kwargs)\u001b[0m\n\u001b[1;32m    178\u001b[0m \u001b[38;5;28;01mif\u001b[39;00m \u001b[38;5;28mself\u001b[39m\u001b[38;5;241m.\u001b[39mauto_mkdir \u001b[38;5;129;01mand\u001b[39;00m \u001b[38;5;124m\"\u001b[39m\u001b[38;5;124mw\u001b[39m\u001b[38;5;124m\"\u001b[39m \u001b[38;5;129;01min\u001b[39;00m mode:\n\u001b[1;32m    179\u001b[0m     \u001b[38;5;28mself\u001b[39m\u001b[38;5;241m.\u001b[39mmakedirs(\u001b[38;5;28mself\u001b[39m\u001b[38;5;241m.\u001b[39m_parent(path), exist_ok\u001b[38;5;241m=\u001b[39m\u001b[38;5;28;01mTrue\u001b[39;00m)\n\u001b[0;32m--> 180\u001b[0m \u001b[38;5;28;01mreturn\u001b[39;00m \u001b[43mLocalFileOpener\u001b[49m\u001b[43m(\u001b[49m\u001b[43mpath\u001b[49m\u001b[43m,\u001b[49m\u001b[43m \u001b[49m\u001b[43mmode\u001b[49m\u001b[43m,\u001b[49m\u001b[43m \u001b[49m\u001b[43mfs\u001b[49m\u001b[38;5;241;43m=\u001b[39;49m\u001b[38;5;28;43mself\u001b[39;49m\u001b[43m,\u001b[49m\u001b[43m \u001b[49m\u001b[38;5;241;43m*\u001b[39;49m\u001b[38;5;241;43m*\u001b[39;49m\u001b[43mkwargs\u001b[49m\u001b[43m)\u001b[49m\n",
      "File \u001b[0;32m/opt/conda/lib/python3.10/site-packages/fsspec/implementations/local.py:302\u001b[0m, in \u001b[0;36mLocalFileOpener.__init__\u001b[0;34m(self, path, mode, autocommit, fs, compression, **kwargs)\u001b[0m\n\u001b[1;32m    300\u001b[0m \u001b[38;5;28mself\u001b[39m\u001b[38;5;241m.\u001b[39mcompression \u001b[38;5;241m=\u001b[39m get_compression(path, compression)\n\u001b[1;32m    301\u001b[0m \u001b[38;5;28mself\u001b[39m\u001b[38;5;241m.\u001b[39mblocksize \u001b[38;5;241m=\u001b[39m io\u001b[38;5;241m.\u001b[39mDEFAULT_BUFFER_SIZE\n\u001b[0;32m--> 302\u001b[0m \u001b[38;5;28;43mself\u001b[39;49m\u001b[38;5;241;43m.\u001b[39;49m\u001b[43m_open\u001b[49m\u001b[43m(\u001b[49m\u001b[43m)\u001b[49m\n",
      "File \u001b[0;32m/opt/conda/lib/python3.10/site-packages/fsspec/implementations/local.py:307\u001b[0m, in \u001b[0;36mLocalFileOpener._open\u001b[0;34m(self)\u001b[0m\n\u001b[1;32m    305\u001b[0m \u001b[38;5;28;01mif\u001b[39;00m \u001b[38;5;28mself\u001b[39m\u001b[38;5;241m.\u001b[39mf \u001b[38;5;129;01mis\u001b[39;00m \u001b[38;5;28;01mNone\u001b[39;00m \u001b[38;5;129;01mor\u001b[39;00m \u001b[38;5;28mself\u001b[39m\u001b[38;5;241m.\u001b[39mf\u001b[38;5;241m.\u001b[39mclosed:\n\u001b[1;32m    306\u001b[0m     \u001b[38;5;28;01mif\u001b[39;00m \u001b[38;5;28mself\u001b[39m\u001b[38;5;241m.\u001b[39mautocommit \u001b[38;5;129;01mor\u001b[39;00m \u001b[38;5;124m\"\u001b[39m\u001b[38;5;124mw\u001b[39m\u001b[38;5;124m\"\u001b[39m \u001b[38;5;129;01mnot\u001b[39;00m \u001b[38;5;129;01min\u001b[39;00m \u001b[38;5;28mself\u001b[39m\u001b[38;5;241m.\u001b[39mmode:\n\u001b[0;32m--> 307\u001b[0m         \u001b[38;5;28mself\u001b[39m\u001b[38;5;241m.\u001b[39mf \u001b[38;5;241m=\u001b[39m \u001b[38;5;28;43mopen\u001b[39;49m\u001b[43m(\u001b[49m\u001b[38;5;28;43mself\u001b[39;49m\u001b[38;5;241;43m.\u001b[39;49m\u001b[43mpath\u001b[49m\u001b[43m,\u001b[49m\u001b[43m \u001b[49m\u001b[43mmode\u001b[49m\u001b[38;5;241;43m=\u001b[39;49m\u001b[38;5;28;43mself\u001b[39;49m\u001b[38;5;241;43m.\u001b[39;49m\u001b[43mmode\u001b[49m\u001b[43m)\u001b[49m\n\u001b[1;32m    308\u001b[0m         \u001b[38;5;28;01mif\u001b[39;00m \u001b[38;5;28mself\u001b[39m\u001b[38;5;241m.\u001b[39mcompression:\n\u001b[1;32m    309\u001b[0m             compress \u001b[38;5;241m=\u001b[39m compr[\u001b[38;5;28mself\u001b[39m\u001b[38;5;241m.\u001b[39mcompression]\n",
      "\u001b[0;31mFileNotFoundError\u001b[0m: [Errno 2] No such file or directory: '/workspace/PretrainedWeights/monoscene_kitti.ckpt'"
     ]
    }
   ],
   "source": [
    "from monoscene.monoscene import MonoScene\n",
    "from utils.monoscene_utils import *\n",
    "\n",
    "pretrained_weight_path = '/workspace/PretrainedWeights/monoscene_kitti.ckpt'\n",
    "\n",
    "\n",
    "monoscene_pt = MonoScene.load_from_checkpoint(\n",
    "        pretrained_weight_path,\n",
    "        dataset=\"kitti\",\n",
    "        n_classes=20,\n",
    "        feature = 64,\n",
    "        project_scale = 2,\n",
    "        full_scene_size = (256, 256, 32),\n",
    ")\n",
    "\n",
    "def build_monoscene_input(img):\n",
    "    img = img.unsqueeze(0)\n",
    "    batch_dict = get_projections(img_width, img_height, calib)\n",
    "    for key in batch_dict:\n",
    "        batch_dict[key] = batch_dict[key].unsqueeze(0)\n",
    "        batch_dict[key] = batch_dict[key].to(device)\n",
    "    batch_dict[\"img\"] = img.to(device)\n",
    "    return batch_dict\n",
    "\n",
    "for p in monoscene_pt.parameters():\n",
    "     p.requires_grad = False\n",
    "\n",
    "\n",
    "\n",
    "class MonoScene(nn.Module):\n",
    "    def __init__(self, MonoScene_pretrained, calib, img_width, img_height):\n",
    "        super(MonoScene, self).__init__()\n",
    "\n",
    "        self.monoscene_pt = MonoScene_pretrained\n",
    "        self.batch_dict = get_projections(img_width, img_height, calib)\n",
    "        for key in self.batch_dict:\n",
    "            self.batch_dict[key] = self.batch_dict[key].unsqueeze(0)\n",
    "            self.batch_dict[key] = self.batch_dict[key].to(device)\n",
    "        \n",
    "    \n",
    "    # input_tensor 'x' should be batched stereo image tensor with\n",
    "    # shape: N x 2 x C x H x W, where N is the batch size, \n",
    "    # 2 for left and right images, \n",
    "    # and C,H,W are the dimensions of RGB images \n",
    "    def forward(self, x):\n",
    "        #print(x.shape)\n",
    "\n",
    "        self.batch_dict[\"img\"] = x.to(device)\n",
    "\n",
    "        x = self.monoscene_pt(self.batch_dict)\n",
    "        return x\n",
    "        \n",
    "        \n",
    "        \n",
    "        \n",
    "print(\"Number of parameters (in millions):\", sum(p.numel() for p in monoscene_pt.parameters()) / 1_000_000, 'M')"
   ]
  },
  {
   "cell_type": "code",
   "execution_count": null,
   "id": "f5162d9b-f28b-4f14-a25f-ae278a06aab7",
   "metadata": {},
   "outputs": [],
   "source": []
  },
  {
   "cell_type": "code",
   "execution_count": 5,
   "id": "8ff8525a-82fe-47a5-86cf-90d88dd1b2ad",
   "metadata": {
    "tags": []
   },
   "outputs": [],
   "source": [
    "#left_img, right_img, voxel_labels = train_set.__getitem__(66)"
   ]
  },
  {
   "cell_type": "code",
   "execution_count": 6,
   "id": "31b93976-df9c-4b23-99ce-54625dcd66ac",
   "metadata": {
    "tags": []
   },
   "outputs": [],
   "source": [
    "# #device = 'cpu'\n",
    "# ssc_pred_left = inference(monoscene_pt, build_monoscene_input(left_img), device)\n",
    "# ssc_pred_left = torch.argmax(ssc_pred_left, dim=1)[0,:,:,:]\n",
    "# ssc_pred_left = ssc_pred_left.squeeze(0)\n",
    "# visualize_labeled_array3d(ssc_pred_left.cpu().numpy().astype(np.uint16), size = 0.5, marker = 'box')"
   ]
  },
  {
   "cell_type": "code",
   "execution_count": 7,
   "id": "9f1d83dd-d281-4154-acff-07ff96062056",
   "metadata": {
    "tags": []
   },
   "outputs": [],
   "source": [
    "# #device = 'cpu'\n",
    "# ssc_pred_right = inference(monoscene_pt, build_monoscene_input(right_img), device)\n",
    "# ssc_pred_right = torch.argmax(ssc_pred_right, dim=1)[0,:,:,:]\n",
    "# ssc_pred_right = ssc_pred_right.squeeze(0)\n",
    "# visualize_labeled_array3d(ssc_pred_right.cpu().numpy().astype(np.uint16), size = 0.5, marker = 'box')"
   ]
  },
  {
   "cell_type": "code",
   "execution_count": 8,
   "id": "56714e29-8834-4731-8932-d554a8933fe6",
   "metadata": {
    "tags": []
   },
   "outputs": [],
   "source": [
    "# left_ssc, right_ssc = generate_left_right_ssc(monoscene_pt, left_img, right_img, device)\n",
    "# print(left_ssc.shape)\n",
    "# print(right_ssc.shape)"
   ]
  },
  {
   "cell_type": "code",
   "execution_count": 9,
   "id": "c3cc1cfd-c67c-449e-947f-5250812e79e4",
   "metadata": {
    "tags": []
   },
   "outputs": [],
   "source": [
    "# voxel_labels.shape"
   ]
  },
  {
   "cell_type": "code",
   "execution_count": 10,
   "id": "2c5abb48-2f9a-4d5e-b94d-e623b70baf0c",
   "metadata": {
    "tags": []
   },
   "outputs": [],
   "source": [
    "# left_ssc = left_ssc.cpu()\n",
    "# right_ssc = right_ssc.cpu()\n",
    "# pass"
   ]
  },
  {
   "cell_type": "code",
   "execution_count": 11,
   "id": "1eab0cec-8f85-4325-89f2-c5eb75f489e5",
   "metadata": {
    "tags": []
   },
   "outputs": [],
   "source": [
    "# plot_tensor2d(left_ssc.sum(dim=2).unsqueeze(0).cpu())"
   ]
  },
  {
   "cell_type": "code",
   "execution_count": 12,
   "id": "0607599e-ea6e-419d-ba11-616d538af18c",
   "metadata": {
    "tags": []
   },
   "outputs": [],
   "source": [
    "# plot_tensor2d(voxel_labels.sum(dim=2).unsqueeze(0).cpu())"
   ]
  },
  {
   "cell_type": "code",
   "execution_count": 13,
   "id": "b007ad5b-5c9f-4147-bd9c-c213bc873d38",
   "metadata": {
    "tags": []
   },
   "outputs": [],
   "source": [
    "# voxel_labels.unsqueeze(0).shape"
   ]
  },
  {
   "cell_type": "code",
   "execution_count": null,
   "id": "92468ca7-e790-44e9-9dad-7cb057f6a3a0",
   "metadata": {},
   "outputs": [],
   "source": []
  },
  {
   "cell_type": "code",
   "execution_count": null,
   "id": "0f857a72-572b-4b12-a8ce-6b435f2e3cb8",
   "metadata": {},
   "outputs": [],
   "source": []
  },
  {
   "cell_type": "code",
   "execution_count": null,
   "id": "ffcc487c-cbc0-4363-b49f-85419bfd957a",
   "metadata": {},
   "outputs": [],
   "source": []
  },
  {
   "cell_type": "code",
   "execution_count": null,
   "id": "c57b0f5e-83e7-4f84-9257-c7c36728a940",
   "metadata": {},
   "outputs": [],
   "source": []
  },
  {
   "cell_type": "code",
   "execution_count": null,
   "id": "ac564169-70fe-4dc7-9003-9850126bcab0",
   "metadata": {},
   "outputs": [],
   "source": []
  },
  {
   "cell_type": "code",
   "execution_count": 14,
   "id": "6b7b04c5-fbc9-4b41-a711-fe7a371ada5f",
   "metadata": {
    "tags": []
   },
   "outputs": [],
   "source": [
    "# tensor = left_ssc.float()\n",
    "# # Reshape tensor to [256, 1, 256, 32]\n",
    "# tensor_reshaped = tensor.unsqueeze(1)\n",
    "\n",
    "# # Apply average pooling\n",
    "# avg_pooled_tensor = F.avg_pool2d(tensor_reshaped, (1, 32)).squeeze(1)\n",
    "# avg_pooled_tensor = avg_pooled_tensor.permute(2, 0, 1)\n"
   ]
  },
  {
   "cell_type": "code",
   "execution_count": 15,
   "id": "d177f4c4-042f-44b3-aef0-e3cfbf17cad1",
   "metadata": {
    "tags": []
   },
   "outputs": [],
   "source": [
    "# plot_tensor2d(avg_pooled_tensor)"
   ]
  },
  {
   "cell_type": "code",
   "execution_count": 16,
   "id": "2f208f8d-9604-4c46-9496-18bbd0bbefc0",
   "metadata": {
    "tags": []
   },
   "outputs": [],
   "source": [
    "# tensor = voxel_labels.float()\n",
    "# # Reshape tensor to [256, 1, 256, 32]\n",
    "# tensor_reshaped = tensor.unsqueeze(1)\n",
    "\n",
    "# # Apply average pooling\n",
    "# max_pooled_tensor = F.max_pool2d(tensor_reshaped, (1, 32)).squeeze(1).permute(2, 0, 1)\n",
    "# plot_tensor2d(max_pooled_tensor)"
   ]
  },
  {
   "cell_type": "code",
   "execution_count": 17,
   "id": "935248bd-dbb0-4b59-b749-18c690e1e6b7",
   "metadata": {
    "tags": []
   },
   "outputs": [],
   "source": [
    "# max_pooled_tensor.shape"
   ]
  },
  {
   "cell_type": "code",
   "execution_count": null,
   "id": "05713cce-4b08-4913-9e58-e12591748ae9",
   "metadata": {},
   "outputs": [],
   "source": []
  },
  {
   "cell_type": "code",
   "execution_count": null,
   "id": "85e3c467-a01f-4351-94fb-c656c87ffa0b",
   "metadata": {},
   "outputs": [],
   "source": []
  },
  {
   "cell_type": "code",
   "execution_count": null,
   "id": "dc3668fe-7d87-41cc-8197-71bb93fd249c",
   "metadata": {},
   "outputs": [],
   "source": []
  },
  {
   "cell_type": "code",
   "execution_count": null,
   "id": "512a4f45-2d05-404a-95b0-1c0710b39d3d",
   "metadata": {
    "tags": []
   },
   "outputs": [],
   "source": []
  },
  {
   "cell_type": "code",
   "execution_count": null,
   "id": "d3cf3c27-eaf3-4263-b074-46840f89d1a5",
   "metadata": {},
   "outputs": [],
   "source": []
  },
  {
   "cell_type": "code",
   "execution_count": null,
   "id": "f02be362-f87f-468e-8b4e-3160d19c61cf",
   "metadata": {},
   "outputs": [],
   "source": []
  },
  {
   "cell_type": "code",
   "execution_count": null,
   "id": "1f037fa5-6a01-4218-8682-f53388d62122",
   "metadata": {},
   "outputs": [],
   "source": []
  },
  {
   "cell_type": "code",
   "execution_count": 18,
   "id": "9dd169f8-f5a6-4ebc-abd6-a82c9a6ffecb",
   "metadata": {},
   "outputs": [],
   "source": [
    "# # Freeze all layers\n",
    "# for param in model.parameters():\n",
    "#     param.requires_grad = False\n",
    "\n",
    "# # Unfreeze the newly added layers (if any)\n",
    "# for param in model.fc.parameters():\n",
    "#     param.requires_grad = True\n"
   ]
  },
  {
   "cell_type": "code",
   "execution_count": null,
   "id": "c8e28155-ab35-4389-965a-abf80ad6f19f",
   "metadata": {},
   "outputs": [],
   "source": []
  },
  {
   "cell_type": "code",
   "execution_count": null,
   "id": "e3bed5ca-04b2-46a1-af13-31983844c5d2",
   "metadata": {},
   "outputs": [],
   "source": []
  },
  {
   "cell_type": "code",
   "execution_count": 19,
   "id": "3bb8f104-79ef-460c-97cd-edceffba85f5",
   "metadata": {
    "tags": []
   },
   "outputs": [
    {
     "name": "stdout",
     "output_type": "stream",
     "text": [
      "408\n",
      "46\n"
     ]
    }
   ],
   "source": [
    "num_classes = len(train_set.class_names)\n",
    "class_weights = train_set.class_weights\n",
    "\n",
    "train_len = len(train_set)\n",
    "split_idx = int(0.9 * train_len)\n",
    "train_subset, val_subset = random_split(train_set, [split_idx, train_len - split_idx])\n",
    "\n",
    "train_dataloader = DataLoader(train_subset, batch_size=1, shuffle=True)\n",
    "val_dataloader = DataLoader(val_subset, batch_size=1, shuffle=True)\n",
    "\n",
    "\n",
    "\n",
    "print(len(train_dataloader))\n",
    "print(len(val_dataloader))\n",
    "\n"
   ]
  },
  {
   "cell_type": "code",
   "execution_count": 20,
   "id": "5512b948-d3a9-4e73-8362-211b04473b0c",
   "metadata": {
    "tags": []
   },
   "outputs": [],
   "source": [
    "#!pip install deformable-attention\n",
    "\n",
    "import torch\n",
    "import torch.nn as nn\n",
    "import torchvision.ops.feature_pyramid_network as fpn\n",
    "from collections import OrderedDict\n",
    "from transformers import DetrFeatureExtractor, DetrForSegmentation\n",
    "\n",
    "# load pretrained detr & remove last layers\n",
    "detr_seg_pt = DetrForSegmentation.from_pretrained('facebook/detr-resnet-50-dc5-panoptic')\n",
    "for param in detr_seg_pt.parameters():\n",
    "     param.requires_grad = False\n",
    "detr_seg_pt = torch.nn.Sequential(OrderedDict([*(list(detr_seg_pt.named_children())[:-2])]))\n",
    "detr_seg_pt.detr = torch.nn.Sequential(OrderedDict([*(list(detr_seg_pt.detr.named_children())[:-2])]))\n",
    "\n",
    "\n",
    "\n",
    "\n",
    "import torch\n",
    "from deformable_attention import DeformableAttention\n",
    "\n",
    "from utils import sem_scal_loss, geo_scal_loss, CE_ssc_loss\n",
    "from utils import Header\n",
    "\n",
    "\n",
    "class CrossAttention(nn.Module):\n",
    "    def __init__(self, embed_dim, num_heads):\n",
    "        super(CrossAttention, self).__init__()\n",
    "        self.multihead_attn = nn.MultiheadAttention(embed_dim=embed_dim, num_heads=num_heads)\n",
    "        self.norm1 = nn.LayerNorm(embed_dim)\n",
    "        self.norm2 = nn.LayerNorm(embed_dim)\n",
    "\n",
    "    def forward(self, query, key_value):\n",
    "        # Cross-Attention\n",
    "        attn_output, _ = self.multihead_attn(query, key_value, key_value)\n",
    "        # Add & Norm (Residual Connection and Layer Normalization)\n",
    "        query = self.norm1(query + attn_output)\n",
    "        return query\n",
    "\n",
    "\n",
    "class UpsampleBEV(nn.Module):\n",
    "    def __init__(self):\n",
    "        super(UpsampleBEV, self).__init__()\n",
    "        self.initial_fc = nn.Linear(1024, 16*8*8)\n",
    "\n",
    "        # Upsample and Convolution layers\n",
    "        self.upsample = nn.Upsample(scale_factor=2, mode='bilinear', align_corners=True)\n",
    "        self.conv1 = nn.Conv2d(16, 8, kernel_size=3, padding=1)\n",
    "        self.conv2 = nn.Conv2d(8, 4, kernel_size=3, padding=1)\n",
    "        self.conv3 = nn.Conv2d(4, 2, kernel_size=3, padding=1)\n",
    "        self.final_conv = nn.Conv2d(2, 3, kernel_size=3, padding=1)\n",
    "\n",
    "    def forward(self, x):\n",
    "        x = self.initial_fc(x)\n",
    "        x = x.view(-1, 16, 8, 8)\n",
    "\n",
    "        # Apply upsampling and convolution layers\n",
    "        x = self.upsample(x)\n",
    "        x = self.conv1(x)\n",
    "        x = self.upsample(x)\n",
    "        x = self.conv2(x)\n",
    "        x = self.upsample(x)\n",
    "        x = self.conv3(x)\n",
    "        x = self.upsample(x)\n",
    "        x = self.upsample(x)\n",
    "\n",
    "        # Adjust channels to 3\n",
    "        x = self.final_conv(x)\n",
    "        return x    \n",
    "\n",
    "class VoxelFeatureExtractor(nn.Module):\n",
    "    def __init__(self):\n",
    "        super(VoxelFeatureExtractor, self).__init__()\n",
    "        self.conv1 = nn.Conv3d(1, 16, kernel_size=(3, 3, 3), stride=1, padding=1)\n",
    "        self.pool = nn.MaxPool3d((1, 1, 2), stride=(1, 1, 2))\n",
    "        self.conv2 = nn.Conv3d(16, 32, kernel_size=(3, 3, 3), stride=1, padding=1)\n",
    "        self.adaptive_pool = nn.AdaptiveMaxPool3d((256, 256, 1))\n",
    "        self.conv3 = nn.Conv3d(32, 1, kernel_size=(1, 1, 1), stride=1)\n",
    "\n",
    "    def forward(self, x):\n",
    "        x = self.pool(torch.relu(self.conv1(x)))\n",
    "        x = self.pool(torch.relu(self.conv2(x)))\n",
    "        x = self.adaptive_pool(x)\n",
    "        x = torch.sigmoid(self.conv3(x))\n",
    "        # Remove the singleton dimension\n",
    "        x = x.squeeze(3)\n",
    "        return x\n",
    "\n",
    "\n",
    "\n",
    "    \n",
    "    \n",
    "# Stereo Forward-Backword BEV Occupancy Prediction Network \n",
    "class STF_BEV_Occ(nn.Module):\n",
    "    def __init__(self, detr_seg_pt, monoscene_pt, class_weights):\n",
    "        super(STF_BEV_Occ, self).__init__()\n",
    "        # out feat shape [1, 100, 256] [100, 256], having 100 elements (like object queries or spatial positions) \n",
    "        # for a single sample in the batch, with each element having a feature vector of size 256\n",
    "        self.backbone = detr_seg_pt \n",
    "        self.monoscene = monoscene_pt\n",
    "        self.class_weights = class_weights\n",
    "        \n",
    "        self.conv1 = nn.Conv2d(256, 32, kernel_size=3, padding=1)\n",
    "        self.conv2 = nn.Conv2d(32, 16, kernel_size=3, padding=1)\n",
    "        self.relu = nn.ReLU()\n",
    "        self.flatten = nn.Flatten()\n",
    "        self.fc1 = nn.Linear(1600, 1024)\n",
    "        \n",
    "        self.conv3 = nn.Conv2d(256, 32, kernel_size=3, padding=1)\n",
    "        self.conv4 = nn.Conv2d(32, 16, kernel_size=3, padding=1)\n",
    "        self.relu = nn.ReLU()\n",
    "        self.flatten = nn.Flatten()\n",
    "        self.fc2 = nn.Linear(1600, 1024)\n",
    "        \n",
    "        self.cross_attn = CrossAttention(embed_dim = 1024, num_heads = 8)\n",
    "        self.upsample = UpsampleBEV()\n",
    "        \n",
    "        self.vox_feat = VoxelFeatureExtractor()\n",
    "        self.dim_reduce = nn.Sequential(\n",
    "            nn.Conv2d(2, 3, kernel_size=3, stride=1, padding=2),\n",
    "            nn.ReLU(),\n",
    "            nn.MaxPool2d(2),  # 128x128\n",
    "            nn.Conv2d(3, 5, kernel_size=2, stride=2, padding=2),\n",
    "            nn.ReLU(),\n",
    "            nn.MaxPool2d(2),  # 64x64\n",
    "            nn.Conv2d(5, 5, kernel_size=3, stride=2, padding=1),\n",
    "            nn.ReLU(),\n",
    "            nn.MaxPool2d(2)   # 32x32\n",
    "        )\n",
    "\n",
    "        self.fc3 = nn.Linear(320, 4096 * 3)\n",
    "        \n",
    "        self.deconv_net = nn.Sequential(\n",
    "            nn.ConvTranspose3d(3, 5, kernel_size=(4, 4, 4), stride=(2, 2, 2), padding=(1, 1, 1)),\n",
    "            nn.ReLU(),\n",
    "            nn.ConvTranspose3d(5, 8, kernel_size=(4, 4, 4), stride=(2, 2, 2), padding=(1, 1, 1)),\n",
    "            nn.ReLU(),\n",
    "            nn.ConvTranspose3d(8, 32, kernel_size=(4, 4, 4), stride=(1, 1, 1), padding=(1, 1, 1)),\n",
    "            nn.ReLU()\n",
    "        )\n",
    "        \n",
    "        \n",
    "        self.header = Header(class_num=20, feature=32)\n",
    "        \n",
    "        \n",
    "        \n",
    "        \n",
    "        #self.mse_loss = nn.MSELoss()\n",
    "    \n",
    "    #inputs are all in bacthed format\n",
    "    def forward(self, left_img, right_img): #, depth_disp, sem_seg\n",
    "        xl = self.backbone(left_img).last_hidden_state\n",
    "        xl = xl.view(-1, 256, 10, 10)  \n",
    "        xl = self.relu(self.conv1(xl))\n",
    "        xl = self.relu(self.conv2(xl))\n",
    "        xl = self.flatten(xl)\n",
    "        xl = self.relu(self.fc1(xl))\n",
    "        \n",
    "        #xd = self.backbone(depth)\n",
    "        \n",
    "        xr = self.backbone(right_img).last_hidden_state\n",
    "        xr = xr.view(-1, 256, 10, 10)  \n",
    "        xr = self.relu(self.conv3(xr))\n",
    "        xr = self.relu(self.conv4(xr))\n",
    "        xr = self.flatten(xr)\n",
    "        xr = self.relu(self.fc2(xr))\n",
    "        \n",
    "        stereo_attn_feat = self.cross_attn(xl, xr)\n",
    "        #print(stereo_attn_feat.shape)\n",
    "        x = self.upsample(stereo_attn_feat)\n",
    "        x = F.max_pool2d(x.permute(0, 2, 3, 1), kernel_size=(1, 3), stride=(1, 3)).permute(0, 3, 1, 2)\n",
    "        \n",
    "        \n",
    "        #x = self.flatten(x)\n",
    "        #print(x.shape) #torch.Size([1, 65536])\n",
    "        \n",
    "        \n",
    "        left_sc = self.monoscene(left_img)\n",
    "        x_sc = torch.argmax(left_sc, dim=1)\n",
    "        \n",
    "        sc_feat = self.vox_feat(x_sc.float()).unsqueeze(1)\n",
    "        \n",
    "        x = torch.cat((x, sc_feat), dim=1)\n",
    "        \n",
    "        x = self.dim_reduce(x)\n",
    "\n",
    "        x = self.flatten(x)\n",
    "        \n",
    "        x = self.relu(self.fc3(x)) \n",
    "        x = x.view(-1, 3, 32, 32, 4)\n",
    "        x = self.deconv_net(x)\n",
    "        \n",
    "        x = x[:,:,:-1,:-1,:-1]\n",
    "        x = self.header(x)\n",
    "        \n",
    "        #x = x + left_sc\n",
    "        \n",
    "        return x\n",
    "    \n",
    "    def step(self, left_img, right_img, voxel_labels):\n",
    "        left_img = left_img.to(device)\n",
    "        right_img = right_img.to(device)\n",
    "        voxel_pred_1h = model(left_img, right_img)\n",
    "\n",
    "        voxel_labels = voxel_labels.float().to(device)\n",
    "\n",
    "        loss = sem_scal_loss(voxel_pred_1h, voxel_labels)\n",
    "        loss += geo_scal_loss(voxel_pred_1h, voxel_labels)\n",
    "        class_weights = self.class_weights\n",
    "        class_weights = class_weights.float().to(device)\n",
    "        loss += CE_ssc_loss(voxel_pred_1h, voxel_labels, class_weights)\n",
    "        return loss\n",
    "    \n",
    "#     def step(self, left_img, right_img):\n",
    "#         left_img = left_img.to(device)\n",
    "#         right_img = right_img.to(device)\n",
    "#         BEV_pred = model(left_img, right_img)\n",
    "        \n",
    "#         BEV_labels = voxel_labels.sum(dim=3).float()\n",
    "#         BEV_labels = BEV_labels.view(-1, 256*256)\n",
    "#         BEV_labels = BEV_labels.to(device)\n",
    "        \n",
    "        \n",
    "#         loss = self.mse_loss(BEV_pred, BEV_labels)\n",
    "#         return loss\n"
   ]
  },
  {
   "cell_type": "code",
   "execution_count": 21,
   "id": "5aca3bce-18b3-4b4a-828d-cceab5b00644",
   "metadata": {
    "tags": []
   },
   "outputs": [
    {
     "name": "stderr",
     "output_type": "stream",
     "text": [
      "OMP: Info #276: omp_set_nested routine deprecated, please use omp_set_max_active_levels instead.\n"
     ]
    },
    {
     "name": "stdout",
     "output_type": "stream",
     "text": [
      "Number of parameters (in millions): 203.600741 M\n"
     ]
    }
   ],
   "source": [
    "monoscene = MonoScene(monoscene_pt, calib, img_width, img_height)\n",
    "model = STF_BEV_Occ(detr_seg_pt, monoscene, class_weights)\n",
    "print(\"Number of parameters (in millions):\", sum(p.numel() for p in model.parameters()) / 1_000_000, 'M')"
   ]
  },
  {
   "cell_type": "code",
   "execution_count": 22,
   "id": "76a8bc84-5333-4b1d-bd2a-3fda249075ec",
   "metadata": {
    "tags": []
   },
   "outputs": [],
   "source": [
    "# left_img, right_img, voxel_labels = train_set.__getitem__(66)\n",
    "\n",
    "# left_img = left_img.unsqueeze(0).to(device)\n",
    "# right_img = right_img.unsqueeze(0).to(device)\n",
    "# voxel_labels.to(device)\n",
    "# model = model.to(device)\n",
    "\n",
    "\n",
    "# out = model(left_img, right_img)"
   ]
  },
  {
   "cell_type": "code",
   "execution_count": 23,
   "id": "8c3cd1a3-5b97-4eb6-aad5-7b6fef689913",
   "metadata": {
    "tags": []
   },
   "outputs": [],
   "source": [
    "# out.shape"
   ]
  },
  {
   "cell_type": "code",
   "execution_count": null,
   "id": "63443255-02db-4b89-8a52-97e51f763178",
   "metadata": {},
   "outputs": [],
   "source": []
  },
  {
   "cell_type": "code",
   "execution_count": null,
   "id": "5157c876-cec7-4736-91e8-0d7e4aaa88ae",
   "metadata": {},
   "outputs": [],
   "source": []
  },
  {
   "cell_type": "code",
   "execution_count": null,
   "id": "901086b0-c567-4874-ae34-e08498f662f3",
   "metadata": {},
   "outputs": [],
   "source": []
  },
  {
   "cell_type": "code",
   "execution_count": null,
   "id": "8fb346f3-12cf-4555-b8e6-687062299801",
   "metadata": {},
   "outputs": [],
   "source": []
  },
  {
   "cell_type": "code",
   "execution_count": 24,
   "id": "6141ce36-c4c3-49d0-a288-b5072eebe5cd",
   "metadata": {
    "tags": []
   },
   "outputs": [],
   "source": [
    "from torch.optim import Adam\n",
    "optimizer = Adam(model.parameters(), lr=0.01)\n",
    "num_epochs = 50\n",
    "best_loss = np.inf\n",
    "\n",
    "model = model.to(device)"
   ]
  },
  {
   "cell_type": "code",
   "execution_count": 25,
   "id": "9832fabb-4451-467f-b01c-fb78fa62fa3d",
   "metadata": {
    "tags": []
   },
   "outputs": [
    {
     "name": "stderr",
     "output_type": "stream",
     "text": [
      "  0%|          | 0/408 [00:00<?, ?it/s]/workspace/HKU-OccNet/monoscene/monoscene.py:100: UserWarning: __floordiv__ is deprecated, and its behavior will change in a future version of pytorch. It currently rounds toward 0 (like the 'trunc' function NOT 'floor'). This results in incorrect rounding for negative values. To keep the current behavior, use torch.div(a, b, rounding_mode='trunc'), or for actual floor division, use torch.div(a, b, rounding_mode='floor').\n",
      "  projected_pix // scale_2d,\n",
      "/workspace/HKU-OccNet/monoscene/monoscene.py:107: UserWarning: __floordiv__ is deprecated, and its behavior will change in a future version of pytorch. It currently rounds toward 0 (like the 'trunc' function NOT 'floor'). This results in incorrect rounding for negative values. To keep the current behavior, use torch.div(a, b, rounding_mode='trunc'), or for actual floor division, use torch.div(a, b, rounding_mode='floor').\n",
      "  projected_pix // scale_2d,\n",
      "100%|██████████| 408/408 [06:02<00:00,  1.12it/s]\n",
      "100%|██████████| 46/46 [00:38<00:00,  1.19it/s]\n"
     ]
    },
    {
     "name": "stdout",
     "output_type": "stream",
     "text": [
      "Epoch 1: Training loss: 10.165523519702987, Validation loss: 9.939981315446937\n"
     ]
    },
    {
     "name": "stderr",
     "output_type": "stream",
     "text": [
      "100%|██████████| 408/408 [05:58<00:00,  1.14it/s]\n",
      "100%|██████████| 46/46 [00:37<00:00,  1.21it/s]\n"
     ]
    },
    {
     "name": "stdout",
     "output_type": "stream",
     "text": [
      "Epoch 2: Training loss: 9.763076050608765, Validation loss: 9.73488359865935\n"
     ]
    },
    {
     "name": "stderr",
     "output_type": "stream",
     "text": [
      "100%|██████████| 408/408 [05:58<00:00,  1.14it/s]\n",
      "100%|██████████| 46/46 [00:37<00:00,  1.22it/s]\n"
     ]
    },
    {
     "name": "stdout",
     "output_type": "stream",
     "text": [
      "Epoch 3: Training loss: 9.665363265018836, Validation loss: 9.718477539394213\n"
     ]
    },
    {
     "name": "stderr",
     "output_type": "stream",
     "text": [
      "100%|██████████| 408/408 [05:57<00:00,  1.14it/s]\n",
      "100%|██████████| 46/46 [00:37<00:00,  1.24it/s]\n"
     ]
    },
    {
     "name": "stdout",
     "output_type": "stream",
     "text": [
      "Epoch 4: Training loss: 9.624984487599017, Validation loss: 9.786431426587312\n"
     ]
    },
    {
     "name": "stderr",
     "output_type": "stream",
     "text": [
      "100%|██████████| 408/408 [05:58<00:00,  1.14it/s]\n",
      "100%|██████████| 46/46 [00:37<00:00,  1.24it/s]\n"
     ]
    },
    {
     "name": "stdout",
     "output_type": "stream",
     "text": [
      "Epoch 5: Training loss: 9.584338932645087, Validation loss: 9.776013529818991\n"
     ]
    },
    {
     "name": "stderr",
     "output_type": "stream",
     "text": [
      "100%|██████████| 408/408 [05:57<00:00,  1.14it/s]\n",
      "100%|██████████| 46/46 [00:38<00:00,  1.19it/s]\n"
     ]
    },
    {
     "name": "stdout",
     "output_type": "stream",
     "text": [
      "Epoch 6: Training loss: 9.549415012200674, Validation loss: 9.736027168190997\n"
     ]
    },
    {
     "name": "stderr",
     "output_type": "stream",
     "text": [
      "100%|██████████| 408/408 [05:58<00:00,  1.14it/s]\n",
      "100%|██████████| 46/46 [00:37<00:00,  1.22it/s]\n"
     ]
    },
    {
     "name": "stdout",
     "output_type": "stream",
     "text": [
      "Epoch 7: Training loss: 9.50758189313552, Validation loss: 9.698631182960842\n"
     ]
    },
    {
     "name": "stderr",
     "output_type": "stream",
     "text": [
      "100%|██████████| 408/408 [05:58<00:00,  1.14it/s]\n",
      "100%|██████████| 46/46 [00:38<00:00,  1.19it/s]\n"
     ]
    },
    {
     "name": "stdout",
     "output_type": "stream",
     "text": [
      "Epoch 8: Training loss: 9.499015259976481, Validation loss: 9.82934830499732\n"
     ]
    },
    {
     "name": "stderr",
     "output_type": "stream",
     "text": [
      "100%|██████████| 408/408 [06:11<00:00,  1.10it/s]\n",
      "100%|██████████| 46/46 [00:37<00:00,  1.22it/s]\n"
     ]
    },
    {
     "name": "stdout",
     "output_type": "stream",
     "text": [
      "Epoch 9: Training loss: 9.588937085048824, Validation loss: 9.592698553334111\n"
     ]
    },
    {
     "name": "stderr",
     "output_type": "stream",
     "text": [
      "100%|██████████| 408/408 [05:56<00:00,  1.14it/s]\n",
      "100%|██████████| 46/46 [00:38<00:00,  1.21it/s]\n"
     ]
    },
    {
     "name": "stdout",
     "output_type": "stream",
     "text": [
      "Epoch 10: Training loss: 9.312917449895073, Validation loss: 9.542546479598336\n"
     ]
    },
    {
     "name": "stderr",
     "output_type": "stream",
     "text": [
      "100%|██████████| 408/408 [05:57<00:00,  1.14it/s]\n",
      "100%|██████████| 46/46 [00:37<00:00,  1.23it/s]\n"
     ]
    },
    {
     "name": "stdout",
     "output_type": "stream",
     "text": [
      "Epoch 11: Training loss: 9.205639187027426, Validation loss: 9.600607643956723\n"
     ]
    },
    {
     "name": "stderr",
     "output_type": "stream",
     "text": [
      " 62%|██████▏   | 251/408 [03:39<02:16,  1.15it/s]IOPub message rate exceeded.\n",
      "The Jupyter server will temporarily stop sending output\n",
      "to the client in order to avoid crashing it.\n",
      "To change this limit, set the config variable\n",
      "`--ServerApp.iopub_msg_rate_limit`.\n",
      "\n",
      "Current values:\n",
      "ServerApp.iopub_msg_rate_limit=1000.0 (msgs/sec)\n",
      "ServerApp.rate_limit_window=3.0 (secs)\n",
      "\n",
      "100%|██████████| 408/408 [05:56<00:00,  1.14it/s]\n",
      "100%|██████████| 46/46 [00:37<00:00,  1.24it/s]\n"
     ]
    },
    {
     "name": "stdout",
     "output_type": "stream",
     "text": [
      "Epoch 16: Training loss: 8.854514276280122, Validation loss: 9.958461377931679\n"
     ]
    },
    {
     "name": "stderr",
     "output_type": "stream",
     "text": [
      "100%|██████████| 408/408 [05:55<00:00,  1.15it/s]\n",
      "100%|██████████| 46/46 [00:37<00:00,  1.23it/s]\n"
     ]
    },
    {
     "name": "stdout",
     "output_type": "stream",
     "text": [
      "Epoch 17: Training loss: 8.80269481154049, Validation loss: 9.921282146288002\n"
     ]
    },
    {
     "name": "stderr",
     "output_type": "stream",
     "text": [
      "100%|██████████| 408/408 [05:55<00:00,  1.15it/s]\n",
      "100%|██████████| 46/46 [00:38<00:00,  1.21it/s]\n"
     ]
    },
    {
     "name": "stdout",
     "output_type": "stream",
     "text": [
      "Epoch 18: Training loss: 8.756254969858656, Validation loss: 10.141593539196512\n"
     ]
    },
    {
     "name": "stderr",
     "output_type": "stream",
     "text": [
      "100%|██████████| 408/408 [05:58<00:00,  1.14it/s]\n",
      "100%|██████████| 46/46 [00:38<00:00,  1.21it/s]\n"
     ]
    },
    {
     "name": "stdout",
     "output_type": "stream",
     "text": [
      "Epoch 19: Training loss: 8.738530629990148, Validation loss: 10.040321754372638\n"
     ]
    },
    {
     "name": "stderr",
     "output_type": "stream",
     "text": [
      "100%|██████████| 408/408 [05:58<00:00,  1.14it/s]\n",
      "100%|██████████| 46/46 [00:38<00:00,  1.21it/s]\n"
     ]
    },
    {
     "name": "stdout",
     "output_type": "stream",
     "text": [
      "Epoch 20: Training loss: 8.857861950116998, Validation loss: 10.108281581298165\n"
     ]
    },
    {
     "name": "stderr",
     "output_type": "stream",
     "text": [
      "100%|██████████| 408/408 [05:56<00:00,  1.15it/s]\n",
      "100%|██████████| 46/46 [00:38<00:00,  1.19it/s]\n"
     ]
    },
    {
     "name": "stdout",
     "output_type": "stream",
     "text": [
      "Epoch 21: Training loss: 8.712659432607538, Validation loss: 10.171524379564369\n"
     ]
    },
    {
     "name": "stderr",
     "output_type": "stream",
     "text": [
      "100%|██████████| 408/408 [05:57<00:00,  1.14it/s]\n",
      "100%|██████████| 46/46 [00:38<00:00,  1.21it/s]\n"
     ]
    },
    {
     "name": "stdout",
     "output_type": "stream",
     "text": [
      "Epoch 22: Training loss: 8.64549206051172, Validation loss: 10.384283076161923\n"
     ]
    },
    {
     "name": "stderr",
     "output_type": "stream",
     "text": [
      "100%|██████████| 408/408 [05:57<00:00,  1.14it/s]\n",
      "100%|██████████| 46/46 [00:37<00:00,  1.23it/s]\n"
     ]
    },
    {
     "name": "stdout",
     "output_type": "stream",
     "text": [
      "Epoch 23: Training loss: 8.625662698465234, Validation loss: 10.504728027012037\n"
     ]
    },
    {
     "name": "stderr",
     "output_type": "stream",
     "text": [
      "100%|██████████| 408/408 [05:56<00:00,  1.15it/s]\n",
      "100%|██████████| 46/46 [00:37<00:00,  1.23it/s]\n"
     ]
    },
    {
     "name": "stdout",
     "output_type": "stream",
     "text": [
      "Epoch 24: Training loss: 8.609000499342002, Validation loss: 10.759614052979842\n"
     ]
    },
    {
     "name": "stderr",
     "output_type": "stream",
     "text": [
      "100%|██████████| 408/408 [05:56<00:00,  1.14it/s]\n",
      "100%|██████████| 46/46 [00:37<00:00,  1.22it/s]\n"
     ]
    },
    {
     "name": "stdout",
     "output_type": "stream",
     "text": [
      "Epoch 25: Training loss: 8.590187466612049, Validation loss: 10.897336151288902\n"
     ]
    },
    {
     "name": "stderr",
     "output_type": "stream",
     "text": [
      "100%|██████████| 408/408 [05:57<00:00,  1.14it/s]\n",
      "100%|██████████| 46/46 [00:38<00:00,  1.20it/s]\n"
     ]
    },
    {
     "name": "stdout",
     "output_type": "stream",
     "text": [
      "Epoch 26: Training loss: 8.560538308293212, Validation loss: 10.415879208108652\n"
     ]
    },
    {
     "name": "stderr",
     "output_type": "stream",
     "text": [
      "100%|██████████| 408/408 [05:56<00:00,  1.14it/s]\n",
      "100%|██████████| 46/46 [00:37<00:00,  1.23it/s]\n"
     ]
    },
    {
     "name": "stdout",
     "output_type": "stream",
     "text": [
      "Epoch 27: Training loss: 8.547936965437497, Validation loss: 10.818503265795501\n"
     ]
    },
    {
     "name": "stderr",
     "output_type": "stream",
     "text": [
      "100%|██████████| 408/408 [05:57<00:00,  1.14it/s]\n",
      "100%|██████████| 46/46 [00:37<00:00,  1.24it/s]\n"
     ]
    },
    {
     "name": "stdout",
     "output_type": "stream",
     "text": [
      "Epoch 28: Training loss: 8.51469429217133, Validation loss: 11.122378121251645\n"
     ]
    },
    {
     "name": "stderr",
     "output_type": "stream",
     "text": [
      "100%|██████████| 408/408 [05:56<00:00,  1.14it/s]\n",
      "100%|██████████| 46/46 [00:37<00:00,  1.21it/s]\n"
     ]
    },
    {
     "name": "stdout",
     "output_type": "stream",
     "text": [
      "Epoch 29: Training loss: 8.5086784806906, Validation loss: 10.848782145458719\n"
     ]
    },
    {
     "name": "stderr",
     "output_type": "stream",
     "text": [
      "100%|██████████| 408/408 [05:57<00:00,  1.14it/s]\n",
      "100%|██████████| 46/46 [00:39<00:00,  1.18it/s]\n"
     ]
    },
    {
     "name": "stdout",
     "output_type": "stream",
     "text": [
      "Epoch 30: Training loss: 8.50684982771967, Validation loss: 11.00604512380517\n"
     ]
    },
    {
     "name": "stderr",
     "output_type": "stream",
     "text": [
      "100%|██████████| 408/408 [05:58<00:00,  1.14it/s]\n",
      "100%|██████████| 46/46 [00:38<00:00,  1.21it/s]\n"
     ]
    },
    {
     "name": "stdout",
     "output_type": "stream",
     "text": [
      "Epoch 31: Training loss: 8.491905982587852, Validation loss: 10.721539932748545\n"
     ]
    },
    {
     "name": "stderr",
     "output_type": "stream",
     "text": [
      "100%|██████████| 408/408 [05:57<00:00,  1.14it/s]\n",
      "100%|██████████| 46/46 [00:38<00:00,  1.19it/s]\n"
     ]
    },
    {
     "name": "stdout",
     "output_type": "stream",
     "text": [
      "Epoch 32: Training loss: 8.457382301489512, Validation loss: 11.398322509682696\n"
     ]
    },
    {
     "name": "stderr",
     "output_type": "stream",
     "text": [
      "100%|██████████| 408/408 [05:57<00:00,  1.14it/s]\n",
      "100%|██████████| 46/46 [00:37<00:00,  1.21it/s]\n"
     ]
    },
    {
     "name": "stdout",
     "output_type": "stream",
     "text": [
      "Epoch 33: Training loss: 8.459621791746102, Validation loss: 10.92407871329266\n"
     ]
    },
    {
     "name": "stderr",
     "output_type": "stream",
     "text": [
      "100%|██████████| 408/408 [05:55<00:00,  1.15it/s]\n",
      "100%|██████████| 46/46 [00:37<00:00,  1.21it/s]\n"
     ]
    },
    {
     "name": "stdout",
     "output_type": "stream",
     "text": [
      "Epoch 34: Training loss: 8.434875450882258, Validation loss: 11.17464970505756\n"
     ]
    },
    {
     "name": "stderr",
     "output_type": "stream",
     "text": [
      "100%|██████████| 408/408 [05:57<00:00,  1.14it/s]\n",
      "100%|██████████| 46/46 [00:37<00:00,  1.22it/s]\n"
     ]
    },
    {
     "name": "stdout",
     "output_type": "stream",
     "text": [
      "Epoch 35: Training loss: 8.427204321412479, Validation loss: 11.167462234911712\n"
     ]
    },
    {
     "name": "stderr",
     "output_type": "stream",
     "text": [
      "100%|██████████| 408/408 [05:56<00:00,  1.14it/s]\n",
      "100%|██████████| 46/46 [00:37<00:00,  1.22it/s]\n"
     ]
    },
    {
     "name": "stdout",
     "output_type": "stream",
     "text": [
      "Epoch 36: Training loss: 8.422629453387914, Validation loss: 11.127529175385185\n"
     ]
    },
    {
     "name": "stderr",
     "output_type": "stream",
     "text": [
      "100%|██████████| 408/408 [05:57<00:00,  1.14it/s]\n",
      "100%|██████████| 46/46 [00:38<00:00,  1.21it/s]\n"
     ]
    },
    {
     "name": "stdout",
     "output_type": "stream",
     "text": [
      "Epoch 37: Training loss: 8.421348728385626, Validation loss: 11.105094598687213\n"
     ]
    },
    {
     "name": "stderr",
     "output_type": "stream",
     "text": [
      "100%|██████████| 408/408 [05:56<00:00,  1.15it/s]\n",
      "100%|██████████| 46/46 [00:38<00:00,  1.19it/s]\n"
     ]
    },
    {
     "name": "stdout",
     "output_type": "stream",
     "text": [
      "Epoch 38: Training loss: 8.405677389864827, Validation loss: 11.12176896178204\n"
     ]
    },
    {
     "name": "stderr",
     "output_type": "stream",
     "text": [
      "100%|██████████| 408/408 [05:57<00:00,  1.14it/s]\n",
      "100%|██████████| 46/46 [00:38<00:00,  1.19it/s]\n"
     ]
    },
    {
     "name": "stdout",
     "output_type": "stream",
     "text": [
      "Epoch 39: Training loss: 8.411346713701883, Validation loss: 11.036497375239497\n"
     ]
    },
    {
     "name": "stderr",
     "output_type": "stream",
     "text": [
      "100%|██████████| 408/408 [05:55<00:00,  1.15it/s]\n",
      "100%|██████████| 46/46 [00:38<00:00,  1.21it/s]\n"
     ]
    },
    {
     "name": "stdout",
     "output_type": "stream",
     "text": [
      "Epoch 40: Training loss: 8.396670534330255, Validation loss: 11.22756168116694\n"
     ]
    },
    {
     "name": "stderr",
     "output_type": "stream",
     "text": [
      "100%|██████████| 408/408 [05:56<00:00,  1.15it/s]\n",
      "100%|██████████| 46/46 [00:37<00:00,  1.23it/s]\n"
     ]
    },
    {
     "name": "stdout",
     "output_type": "stream",
     "text": [
      "Epoch 41: Training loss: 8.378509452529983, Validation loss: 11.701986924461696\n"
     ]
    },
    {
     "name": "stderr",
     "output_type": "stream",
     "text": [
      "100%|██████████| 408/408 [05:59<00:00,  1.14it/s]\n",
      "100%|██████████| 46/46 [00:38<00:00,  1.19it/s]\n"
     ]
    },
    {
     "name": "stdout",
     "output_type": "stream",
     "text": [
      "Epoch 42: Training loss: 8.393187878178615, Validation loss: 11.300634270128997\n"
     ]
    },
    {
     "name": "stderr",
     "output_type": "stream",
     "text": [
      "100%|██████████| 408/408 [05:58<00:00,  1.14it/s]\n",
      "100%|██████████| 46/46 [00:38<00:00,  1.21it/s]\n"
     ]
    },
    {
     "name": "stdout",
     "output_type": "stream",
     "text": [
      "Epoch 43: Training loss: 8.359078553377413, Validation loss: 11.572233220805293\n"
     ]
    },
    {
     "name": "stderr",
     "output_type": "stream",
     "text": [
      "100%|██████████| 408/408 [05:58<00:00,  1.14it/s]\n",
      "100%|██████████| 46/46 [00:37<00:00,  1.23it/s]\n"
     ]
    },
    {
     "name": "stdout",
     "output_type": "stream",
     "text": [
      "Epoch 44: Training loss: 8.346046582156537, Validation loss: 11.559399801751841\n"
     ]
    },
    {
     "name": "stderr",
     "output_type": "stream",
     "text": [
      "100%|██████████| 408/408 [05:57<00:00,  1.14it/s]\n",
      "100%|██████████| 46/46 [00:38<00:00,  1.19it/s]\n"
     ]
    },
    {
     "name": "stdout",
     "output_type": "stream",
     "text": [
      "Epoch 45: Training loss: 8.344709935141545, Validation loss: 11.535278164822122\n"
     ]
    },
    {
     "name": "stderr",
     "output_type": "stream",
     "text": [
      "100%|██████████| 408/408 [05:57<00:00,  1.14it/s]\n",
      "100%|██████████| 46/46 [00:37<00:00,  1.22it/s]\n"
     ]
    },
    {
     "name": "stdout",
     "output_type": "stream",
     "text": [
      "Epoch 46: Training loss: 8.339360501251969, Validation loss: 11.834853410720825\n"
     ]
    },
    {
     "name": "stderr",
     "output_type": "stream",
     "text": [
      "100%|██████████| 408/408 [05:56<00:00,  1.14it/s]\n",
      "100%|██████████| 46/46 [00:37<00:00,  1.21it/s]\n"
     ]
    },
    {
     "name": "stdout",
     "output_type": "stream",
     "text": [
      "Epoch 47: Training loss: 8.358142699681077, Validation loss: 11.85023217615874\n"
     ]
    },
    {
     "name": "stderr",
     "output_type": "stream",
     "text": [
      "100%|██████████| 408/408 [05:58<00:00,  1.14it/s]\n",
      "100%|██████████| 46/46 [00:38<00:00,  1.20it/s]\n"
     ]
    },
    {
     "name": "stdout",
     "output_type": "stream",
     "text": [
      "Epoch 48: Training loss: 8.335949286526324, Validation loss: 11.274579939634904\n"
     ]
    },
    {
     "name": "stderr",
     "output_type": "stream",
     "text": [
      "100%|██████████| 408/408 [05:57<00:00,  1.14it/s]\n",
      "100%|██████████| 46/46 [00:38<00:00,  1.20it/s]\n"
     ]
    },
    {
     "name": "stdout",
     "output_type": "stream",
     "text": [
      "Epoch 49: Training loss: 8.32023093513414, Validation loss: 11.71598922688028\n"
     ]
    },
    {
     "name": "stderr",
     "output_type": "stream",
     "text": [
      " 66%|██████▌   | 270/408 [03:56<02:00,  1.14it/s]\n"
     ]
    },
    {
     "data": {
      "text/html": [
       "<pre style=\"white-space:pre;overflow-x:auto;line-height:normal;font-family:Menlo,'DejaVu Sans Mono',consolas,'Courier New',monospace\"><span style=\"color: #800000; text-decoration-color: #800000\">╭─────────────────────────────── </span><span style=\"color: #800000; text-decoration-color: #800000; font-weight: bold\">Traceback </span><span style=\"color: #bf7f7f; text-decoration-color: #bf7f7f; font-weight: bold\">(most recent call last)</span><span style=\"color: #800000; text-decoration-color: #800000\"> ────────────────────────────────╮</span>\n",
       "<span style=\"color: #800000; text-decoration-color: #800000\">│</span> in <span style=\"color: #00ff00; text-decoration-color: #00ff00\">&lt;module&gt;</span>:<span style=\"color: #0000ff; text-decoration-color: #0000ff\">8</span>                                                                                    <span style=\"color: #800000; text-decoration-color: #800000\">│</span>\n",
       "<span style=\"color: #800000; text-decoration-color: #800000\">│</span>                                                                                                  <span style=\"color: #800000; text-decoration-color: #800000\">│</span>\n",
       "<span style=\"color: #800000; text-decoration-color: #800000\">│</span>   <span style=\"color: #7f7f7f; text-decoration-color: #7f7f7f\"> 5 </span><span style=\"color: #0000ff; text-decoration-color: #0000ff\">for</span> epoch <span style=\"color: #ff00ff; text-decoration-color: #ff00ff\">in</span> <span style=\"color: #00ffff; text-decoration-color: #00ffff\">range</span>(num_epochs):                                                             <span style=\"color: #800000; text-decoration-color: #800000\">│</span>\n",
       "<span style=\"color: #800000; text-decoration-color: #800000\">│</span>   <span style=\"color: #7f7f7f; text-decoration-color: #7f7f7f\"> 6 </span><span style=\"color: #7f7f7f; text-decoration-color: #7f7f7f\">│   </span>train_loss = <span style=\"color: #0000ff; text-decoration-color: #0000ff\">0.0</span>                                                                        <span style=\"color: #800000; text-decoration-color: #800000\">│</span>\n",
       "<span style=\"color: #800000; text-decoration-color: #800000\">│</span>   <span style=\"color: #7f7f7f; text-decoration-color: #7f7f7f\"> 7 </span><span style=\"color: #7f7f7f; text-decoration-color: #7f7f7f\">│   </span><span style=\"color: #0000ff; text-decoration-color: #0000ff\">for</span> i, (left_img, right_img, voxel_labels) <span style=\"color: #ff00ff; text-decoration-color: #ff00ff\">in</span> tqdm(<span style=\"color: #00ffff; text-decoration-color: #00ffff\">enumerate</span>(train_dataloader),total    <span style=\"color: #800000; text-decoration-color: #800000\">│</span>\n",
       "<span style=\"color: #800000; text-decoration-color: #800000\">│</span> <span style=\"color: #800000; text-decoration-color: #800000\">❱ </span> 8 <span style=\"color: #7f7f7f; text-decoration-color: #7f7f7f\">│   │   </span>loss = model.step(left_img, right_img, voxel_labels)                                <span style=\"color: #800000; text-decoration-color: #800000\">│</span>\n",
       "<span style=\"color: #800000; text-decoration-color: #800000\">│</span>   <span style=\"color: #7f7f7f; text-decoration-color: #7f7f7f\"> 9 </span><span style=\"color: #7f7f7f; text-decoration-color: #7f7f7f\">│   │   </span>                                                                                    <span style=\"color: #800000; text-decoration-color: #800000\">│</span>\n",
       "<span style=\"color: #800000; text-decoration-color: #800000\">│</span>   <span style=\"color: #7f7f7f; text-decoration-color: #7f7f7f\">10 </span><span style=\"color: #7f7f7f; text-decoration-color: #7f7f7f\">│   │   </span>optimizer.zero_grad()                                                               <span style=\"color: #800000; text-decoration-color: #800000\">│</span>\n",
       "<span style=\"color: #800000; text-decoration-color: #800000\">│</span>   <span style=\"color: #7f7f7f; text-decoration-color: #7f7f7f\">11 </span><span style=\"color: #7f7f7f; text-decoration-color: #7f7f7f\">│   │   </span>loss.backward()                                                                     <span style=\"color: #800000; text-decoration-color: #800000\">│</span>\n",
       "<span style=\"color: #800000; text-decoration-color: #800000\">│</span>                                                                                                  <span style=\"color: #800000; text-decoration-color: #800000\">│</span>\n",
       "<span style=\"color: #800000; text-decoration-color: #800000\">│</span> in <span style=\"color: #00ff00; text-decoration-color: #00ff00\">step</span>:<span style=\"color: #0000ff; text-decoration-color: #0000ff\">207</span>                                                                                      <span style=\"color: #800000; text-decoration-color: #800000\">│</span>\n",
       "<span style=\"color: #800000; text-decoration-color: #800000\">│</span>                                                                                                  <span style=\"color: #800000; text-decoration-color: #800000\">│</span>\n",
       "<span style=\"color: #800000; text-decoration-color: #800000\">│</span>   <span style=\"color: #7f7f7f; text-decoration-color: #7f7f7f\">204 </span><span style=\"color: #7f7f7f; text-decoration-color: #7f7f7f\">│   │   </span>                                                                                   <span style=\"color: #800000; text-decoration-color: #800000\">│</span>\n",
       "<span style=\"color: #800000; text-decoration-color: #800000\">│</span>   <span style=\"color: #7f7f7f; text-decoration-color: #7f7f7f\">205 </span><span style=\"color: #7f7f7f; text-decoration-color: #7f7f7f\">│   │   </span>voxel_labels = voxel_labels.float().to(device)                                     <span style=\"color: #800000; text-decoration-color: #800000\">│</span>\n",
       "<span style=\"color: #800000; text-decoration-color: #800000\">│</span>   <span style=\"color: #7f7f7f; text-decoration-color: #7f7f7f\">206 </span><span style=\"color: #7f7f7f; text-decoration-color: #7f7f7f\">│   │   </span>                                                                                   <span style=\"color: #800000; text-decoration-color: #800000\">│</span>\n",
       "<span style=\"color: #800000; text-decoration-color: #800000\">│</span> <span style=\"color: #800000; text-decoration-color: #800000\">❱ </span>207 <span style=\"color: #7f7f7f; text-decoration-color: #7f7f7f\">│   │   </span>loss = sem_scal_loss(voxel_pred_1h, voxel_labels)                                  <span style=\"color: #800000; text-decoration-color: #800000\">│</span>\n",
       "<span style=\"color: #800000; text-decoration-color: #800000\">│</span>   <span style=\"color: #7f7f7f; text-decoration-color: #7f7f7f\">208 </span><span style=\"color: #7f7f7f; text-decoration-color: #7f7f7f\">│   │   </span>loss += geo_scal_loss(voxel_pred_1h, voxel_labels)                                 <span style=\"color: #800000; text-decoration-color: #800000\">│</span>\n",
       "<span style=\"color: #800000; text-decoration-color: #800000\">│</span>   <span style=\"color: #7f7f7f; text-decoration-color: #7f7f7f\">209 </span><span style=\"color: #7f7f7f; text-decoration-color: #7f7f7f\">│   │   </span>class_weights = <span style=\"color: #00ffff; text-decoration-color: #00ffff\">self</span>.class_weights                                                 <span style=\"color: #800000; text-decoration-color: #800000\">│</span>\n",
       "<span style=\"color: #800000; text-decoration-color: #800000\">│</span>   <span style=\"color: #7f7f7f; text-decoration-color: #7f7f7f\">210 </span><span style=\"color: #7f7f7f; text-decoration-color: #7f7f7f\">│   │   </span>class_weights = class_weights.float().to(device)                                   <span style=\"color: #800000; text-decoration-color: #800000\">│</span>\n",
       "<span style=\"color: #800000; text-decoration-color: #800000\">│</span>                                                                                                  <span style=\"color: #800000; text-decoration-color: #800000\">│</span>\n",
       "<span style=\"color: #800000; text-decoration-color: #800000\">│</span> <span style=\"color: #bfbf7f; text-decoration-color: #bfbf7f\">/workspace/HKU-OccNet/utils/</span><span style=\"color: #808000; text-decoration-color: #808000; font-weight: bold\">ssc_loss.py</span>:<span style=\"color: #0000ff; text-decoration-color: #0000ff\">77</span> in <span style=\"color: #00ff00; text-decoration-color: #00ff00\">sem_scal_loss</span>                                      <span style=\"color: #800000; text-decoration-color: #800000\">│</span>\n",
       "<span style=\"color: #800000; text-decoration-color: #800000\">│</span>                                                                                                  <span style=\"color: #800000; text-decoration-color: #800000\">│</span>\n",
       "<span style=\"color: #800000; text-decoration-color: #800000\">│</span>   <span style=\"color: #7f7f7f; text-decoration-color: #7f7f7f\"> 74 </span><span style=\"color: #7f7f7f; text-decoration-color: #7f7f7f\">│   │   </span>                                                                                   <span style=\"color: #800000; text-decoration-color: #800000\">│</span>\n",
       "<span style=\"color: #800000; text-decoration-color: #800000\">│</span>   <span style=\"color: #7f7f7f; text-decoration-color: #7f7f7f\"> 75 </span><span style=\"color: #7f7f7f; text-decoration-color: #7f7f7f\">│   │   </span><span style=\"color: #7f7f7f; text-decoration-color: #7f7f7f\"># Remove unknown voxels</span>                                                            <span style=\"color: #800000; text-decoration-color: #800000\">│</span>\n",
       "<span style=\"color: #800000; text-decoration-color: #800000\">│</span>   <span style=\"color: #7f7f7f; text-decoration-color: #7f7f7f\"> 76 </span><span style=\"color: #7f7f7f; text-decoration-color: #7f7f7f\">│   │   </span>target_ori = ssc_target                                                            <span style=\"color: #800000; text-decoration-color: #800000\">│</span>\n",
       "<span style=\"color: #800000; text-decoration-color: #800000\">│</span> <span style=\"color: #800000; text-decoration-color: #800000\">❱ </span> 77 <span style=\"color: #7f7f7f; text-decoration-color: #7f7f7f\">│   │   </span>p = p[mask]                                                                        <span style=\"color: #800000; text-decoration-color: #800000\">│</span>\n",
       "<span style=\"color: #800000; text-decoration-color: #800000\">│</span>   <span style=\"color: #7f7f7f; text-decoration-color: #7f7f7f\"> 78 </span><span style=\"color: #7f7f7f; text-decoration-color: #7f7f7f\">│   │   </span>target = ssc_target[mask]                                                          <span style=\"color: #800000; text-decoration-color: #800000\">│</span>\n",
       "<span style=\"color: #800000; text-decoration-color: #800000\">│</span>   <span style=\"color: #7f7f7f; text-decoration-color: #7f7f7f\"> 79 </span><span style=\"color: #7f7f7f; text-decoration-color: #7f7f7f\">│   │   </span>                                                                                   <span style=\"color: #800000; text-decoration-color: #800000\">│</span>\n",
       "<span style=\"color: #800000; text-decoration-color: #800000\">│</span>   <span style=\"color: #7f7f7f; text-decoration-color: #7f7f7f\"> 80 </span><span style=\"color: #7f7f7f; text-decoration-color: #7f7f7f\">│   │   </span>completion_target = torch.ones_like(target)                                        <span style=\"color: #800000; text-decoration-color: #800000\">│</span>\n",
       "<span style=\"color: #800000; text-decoration-color: #800000\">╰──────────────────────────────────────────────────────────────────────────────────────────────────╯</span>\n",
       "<span style=\"color: #ff0000; text-decoration-color: #ff0000; font-weight: bold\">KeyboardInterrupt</span>\n",
       "</pre>\n"
      ],
      "text/plain": [
       "\u001b[31m╭─\u001b[0m\u001b[31m──────────────────────────────\u001b[0m\u001b[31m \u001b[0m\u001b[1;31mTraceback \u001b[0m\u001b[1;2;31m(most recent call last)\u001b[0m\u001b[31m \u001b[0m\u001b[31m───────────────────────────────\u001b[0m\u001b[31m─╮\u001b[0m\n",
       "\u001b[31m│\u001b[0m in \u001b[92m<module>\u001b[0m:\u001b[94m8\u001b[0m                                                                                    \u001b[31m│\u001b[0m\n",
       "\u001b[31m│\u001b[0m                                                                                                  \u001b[31m│\u001b[0m\n",
       "\u001b[31m│\u001b[0m   \u001b[2m 5 \u001b[0m\u001b[94mfor\u001b[0m epoch \u001b[95min\u001b[0m \u001b[96mrange\u001b[0m(num_epochs):                                                             \u001b[31m│\u001b[0m\n",
       "\u001b[31m│\u001b[0m   \u001b[2m 6 \u001b[0m\u001b[2m│   \u001b[0mtrain_loss = \u001b[94m0.0\u001b[0m                                                                        \u001b[31m│\u001b[0m\n",
       "\u001b[31m│\u001b[0m   \u001b[2m 7 \u001b[0m\u001b[2m│   \u001b[0m\u001b[94mfor\u001b[0m i, (left_img, right_img, voxel_labels) \u001b[95min\u001b[0m tqdm(\u001b[96menumerate\u001b[0m(train_dataloader),total    \u001b[31m│\u001b[0m\n",
       "\u001b[31m│\u001b[0m \u001b[31m❱ \u001b[0m 8 \u001b[2m│   │   \u001b[0mloss = model.step(left_img, right_img, voxel_labels)                                \u001b[31m│\u001b[0m\n",
       "\u001b[31m│\u001b[0m   \u001b[2m 9 \u001b[0m\u001b[2m│   │   \u001b[0m                                                                                    \u001b[31m│\u001b[0m\n",
       "\u001b[31m│\u001b[0m   \u001b[2m10 \u001b[0m\u001b[2m│   │   \u001b[0moptimizer.zero_grad()                                                               \u001b[31m│\u001b[0m\n",
       "\u001b[31m│\u001b[0m   \u001b[2m11 \u001b[0m\u001b[2m│   │   \u001b[0mloss.backward()                                                                     \u001b[31m│\u001b[0m\n",
       "\u001b[31m│\u001b[0m                                                                                                  \u001b[31m│\u001b[0m\n",
       "\u001b[31m│\u001b[0m in \u001b[92mstep\u001b[0m:\u001b[94m207\u001b[0m                                                                                      \u001b[31m│\u001b[0m\n",
       "\u001b[31m│\u001b[0m                                                                                                  \u001b[31m│\u001b[0m\n",
       "\u001b[31m│\u001b[0m   \u001b[2m204 \u001b[0m\u001b[2m│   │   \u001b[0m                                                                                   \u001b[31m│\u001b[0m\n",
       "\u001b[31m│\u001b[0m   \u001b[2m205 \u001b[0m\u001b[2m│   │   \u001b[0mvoxel_labels = voxel_labels.float().to(device)                                     \u001b[31m│\u001b[0m\n",
       "\u001b[31m│\u001b[0m   \u001b[2m206 \u001b[0m\u001b[2m│   │   \u001b[0m                                                                                   \u001b[31m│\u001b[0m\n",
       "\u001b[31m│\u001b[0m \u001b[31m❱ \u001b[0m207 \u001b[2m│   │   \u001b[0mloss = sem_scal_loss(voxel_pred_1h, voxel_labels)                                  \u001b[31m│\u001b[0m\n",
       "\u001b[31m│\u001b[0m   \u001b[2m208 \u001b[0m\u001b[2m│   │   \u001b[0mloss += geo_scal_loss(voxel_pred_1h, voxel_labels)                                 \u001b[31m│\u001b[0m\n",
       "\u001b[31m│\u001b[0m   \u001b[2m209 \u001b[0m\u001b[2m│   │   \u001b[0mclass_weights = \u001b[96mself\u001b[0m.class_weights                                                 \u001b[31m│\u001b[0m\n",
       "\u001b[31m│\u001b[0m   \u001b[2m210 \u001b[0m\u001b[2m│   │   \u001b[0mclass_weights = class_weights.float().to(device)                                   \u001b[31m│\u001b[0m\n",
       "\u001b[31m│\u001b[0m                                                                                                  \u001b[31m│\u001b[0m\n",
       "\u001b[31m│\u001b[0m \u001b[2;33m/workspace/HKU-OccNet/utils/\u001b[0m\u001b[1;33mssc_loss.py\u001b[0m:\u001b[94m77\u001b[0m in \u001b[92msem_scal_loss\u001b[0m                                      \u001b[31m│\u001b[0m\n",
       "\u001b[31m│\u001b[0m                                                                                                  \u001b[31m│\u001b[0m\n",
       "\u001b[31m│\u001b[0m   \u001b[2m 74 \u001b[0m\u001b[2m│   │   \u001b[0m                                                                                   \u001b[31m│\u001b[0m\n",
       "\u001b[31m│\u001b[0m   \u001b[2m 75 \u001b[0m\u001b[2m│   │   \u001b[0m\u001b[2m# Remove unknown voxels\u001b[0m                                                            \u001b[31m│\u001b[0m\n",
       "\u001b[31m│\u001b[0m   \u001b[2m 76 \u001b[0m\u001b[2m│   │   \u001b[0mtarget_ori = ssc_target                                                            \u001b[31m│\u001b[0m\n",
       "\u001b[31m│\u001b[0m \u001b[31m❱ \u001b[0m 77 \u001b[2m│   │   \u001b[0mp = p[mask]                                                                        \u001b[31m│\u001b[0m\n",
       "\u001b[31m│\u001b[0m   \u001b[2m 78 \u001b[0m\u001b[2m│   │   \u001b[0mtarget = ssc_target[mask]                                                          \u001b[31m│\u001b[0m\n",
       "\u001b[31m│\u001b[0m   \u001b[2m 79 \u001b[0m\u001b[2m│   │   \u001b[0m                                                                                   \u001b[31m│\u001b[0m\n",
       "\u001b[31m│\u001b[0m   \u001b[2m 80 \u001b[0m\u001b[2m│   │   \u001b[0mcompletion_target = torch.ones_like(target)                                        \u001b[31m│\u001b[0m\n",
       "\u001b[31m╰──────────────────────────────────────────────────────────────────────────────────────────────────╯\u001b[0m\n",
       "\u001b[1;91mKeyboardInterrupt\u001b[0m\n"
      ]
     },
     "metadata": {},
     "output_type": "display_data"
    }
   ],
   "source": [
    "from tqdm import tqdm\n",
    "import torch.nn.functional as F\n",
    "\n",
    "\n",
    "for epoch in range(num_epochs):\n",
    "    train_loss = 0.0\n",
    "    for i, (left_img, right_img, voxel_labels) in tqdm(enumerate(train_dataloader),total = len(train_dataloader)):\n",
    "        loss = model.step(left_img, right_img, voxel_labels)\n",
    "        \n",
    "        optimizer.zero_grad()\n",
    "        loss.backward()\n",
    "        optimizer.step()\n",
    "        train_loss += loss.item()\n",
    "        #print(loss.item())  \n",
    "    valid_loss = 0.0\n",
    "    \n",
    "    model.eval()\n",
    "    with torch.no_grad():\n",
    "        for (left_img, right_img, voxel_labels) in tqdm(val_dataloader):\n",
    "            loss = model.step(left_img, right_img, voxel_labels)\n",
    "            optimizer.zero_grad()\n",
    "            loss.requires_grad_(True)\n",
    "            loss.backward()\n",
    "            optimizer.step()\n",
    "            valid_loss += loss.item()\n",
    "            \n",
    "    print(f'Epoch {epoch + 1}: Training loss: {train_loss / len(train_dataloader)}, Validation loss: {valid_loss / len(val_dataloader)}')\n",
    "    if (train_loss / len(train_dataloader)) < best_loss:\n",
    "        torch.save(model.state_dict(), 'bevocc.pth')\n",
    "        best_loss = (train_loss / len(train_dataloader))"
   ]
  },
  {
   "cell_type": "code",
   "execution_count": null,
   "id": "64e1145b-de98-4dcf-8c4b-b100ec445e8b",
   "metadata": {},
   "outputs": [],
   "source": []
  },
  {
   "cell_type": "code",
   "execution_count": null,
   "id": "fa8889ad-cf69-44ef-aadd-b59cf7cb08e9",
   "metadata": {},
   "outputs": [],
   "source": []
  },
  {
   "cell_type": "code",
   "execution_count": null,
   "id": "7cb79225-18bc-417a-917f-c7fc452d9185",
   "metadata": {},
   "outputs": [],
   "source": []
  },
  {
   "cell_type": "code",
   "execution_count": null,
   "id": "23f781bc-2bcd-408f-895d-1aa10c11a6e4",
   "metadata": {},
   "outputs": [],
   "source": []
  },
  {
   "cell_type": "code",
   "execution_count": 8,
   "id": "d125b6e5-f5a4-4565-8786-63c219b5c0c5",
   "metadata": {},
   "outputs": [],
   "source": [
    "test_set = SemanticKITTIDataset(root_dir=KITTI_DIR, mode='test', \n",
    "                                 sequences=['00'], split_ratio=0.8)\n",
    "left_img, right_img, voxel_labels = train_set.__getitem__(5)"
   ]
  },
  {
   "cell_type": "code",
   "execution_count": 38,
   "id": "1ae5a3ea-25c7-4683-9fe2-abf7b678d289",
   "metadata": {},
   "outputs": [
    {
     "name": "stderr",
     "output_type": "stream",
     "text": [
      "/workspace/HKU-OccNet/monoscene/monoscene.py:100: UserWarning: __floordiv__ is deprecated, and its behavior will change in a future version of pytorch. It currently rounds toward 0 (like the 'trunc' function NOT 'floor'). This results in incorrect rounding for negative values. To keep the current behavior, use torch.div(a, b, rounding_mode='trunc'), or for actual floor division, use torch.div(a, b, rounding_mode='floor').\n",
      "  projected_pix // scale_2d,\n",
      "/workspace/HKU-OccNet/monoscene/monoscene.py:107: UserWarning: __floordiv__ is deprecated, and its behavior will change in a future version of pytorch. It currently rounds toward 0 (like the 'trunc' function NOT 'floor'). This results in incorrect rounding for negative values. To keep the current behavior, use torch.div(a, b, rounding_mode='trunc'), or for actual floor division, use torch.div(a, b, rounding_mode='floor').\n",
      "  projected_pix // scale_2d,\n"
     ]
    }
   ],
   "source": [
    "out = model(left_img.unsqueeze(0).to(device), right_img.unsqueeze(0).to(device))"
   ]
  },
  {
   "cell_type": "code",
   "execution_count": 39,
   "id": "6ce3223b-8467-4b2b-a620-f8c377ef91a8",
   "metadata": {
    "tags": []
   },
   "outputs": [
    {
     "data": {
      "text/plain": [
       "torch.Size([1, 20, 256, 256, 32])"
      ]
     },
     "execution_count": 39,
     "metadata": {},
     "output_type": "execute_result"
    }
   ],
   "source": [
    "out.shape"
   ]
  },
  {
   "cell_type": "code",
   "execution_count": 40,
   "id": "fc2ff83a-a300-4324-a405-734b0f96f7ac",
   "metadata": {
    "tags": []
   },
   "outputs": [
    {
     "data": {
      "application/vnd.jupyter.widget-view+json": {
       "model_id": "b3344afcb974444d8df8a9d1bfdd58f5",
       "version_major": 2,
       "version_minor": 0
      },
      "text/plain": [
       "Container(figure=Figure(box_center=[0.5, 0.5, 0.5], box_size=[1.0, 1.0, 1.0], camera=PerspectiveCamera(fov=45.…"
      ]
     },
     "metadata": {},
     "output_type": "display_data"
    }
   ],
   "source": [
    "voxel_pred = torch.argmax(out, dim=1)[0,:,:,:]\n",
    "\n",
    "visualize_labeled_array3d(voxel_pred.detach().cpu().numpy().astype(np.uint16), size = 0.5, marker = 'box')"
   ]
  },
  {
   "cell_type": "code",
   "execution_count": null,
   "id": "c81c88fa-1596-4ede-be87-33ffd4d992ef",
   "metadata": {},
   "outputs": [],
   "source": []
  },
  {
   "cell_type": "code",
   "execution_count": 41,
   "id": "6053e618-3164-47aa-9c32-096396f9facf",
   "metadata": {
    "tags": []
   },
   "outputs": [
    {
     "data": {
      "application/vnd.jupyter.widget-view+json": {
       "model_id": "e8793e49bba04c44be840fb33ae68b84",
       "version_major": 2,
       "version_minor": 0
      },
      "text/plain": [
       "Container(figure=Figure(box_center=[0.5, 0.5, 0.5], box_size=[1.0, 1.0, 1.0], camera=PerspectiveCamera(fov=45.…"
      ]
     },
     "metadata": {},
     "output_type": "display_data"
    }
   ],
   "source": [
    "ssc_pred_left = inference(monoscene_pt, build_monoscene_input(left_img), device)\n",
    "ssc_pred_left = torch.argmax(ssc_pred_left, dim=1)[0,:,:,:]\n",
    "ssc_pred_left = ssc_pred_left.squeeze(0)\n",
    "visualize_labeled_array3d(ssc_pred_left.cpu().numpy().astype(np.uint16), size = 0.5, marker = 'box')"
   ]
  },
  {
   "cell_type": "code",
   "execution_count": 9,
   "id": "8a2dc035-c4c1-46fe-83b4-69c32ac64d02",
   "metadata": {
    "tags": []
   },
   "outputs": [
    {
     "data": {
      "application/vnd.jupyter.widget-view+json": {
       "model_id": "c6fcfe6e9cc247278b9b16663a2a0879",
       "version_major": 2,
       "version_minor": 0
      },
      "text/plain": [
       "Container(figure=Figure(box_center=[0.5, 0.5, 0.5], box_size=[1.0, 1.0, 1.0], camera=PerspectiveCamera(fov=45.…"
      ]
     },
     "metadata": {},
     "output_type": "display_data"
    }
   ],
   "source": [
    "visualize_labeled_array3d(voxel_labels.cpu().numpy().astype(np.uint16), size = 0.5, marker = 'box')"
   ]
  },
  {
   "cell_type": "code",
   "execution_count": null,
   "id": "3add5560-1563-4ca3-b188-7dc207b63fec",
   "metadata": {},
   "outputs": [],
   "source": []
  },
  {
   "cell_type": "code",
   "execution_count": null,
   "id": "1437a87e-7282-43c4-8693-e6ad7ade21e0",
   "metadata": {},
   "outputs": [],
   "source": []
  },
  {
   "cell_type": "code",
   "execution_count": null,
   "id": "69821152-8c2b-436a-b1e8-678dde80bff8",
   "metadata": {},
   "outputs": [],
   "source": [
    "# out_np = out.to('cpu').view(1, 256, 256).detach()\n",
    "# plot_tensor2d(out_np)"
   ]
  },
  {
   "cell_type": "code",
   "execution_count": 43,
   "id": "86663cb6-8cc2-4ac5-8c6c-c53560498fac",
   "metadata": {
    "tags": []
   },
   "outputs": [
    {
     "data": {
      "image/png": "[encoded data removed]",
      "text/plain": [
       "<Figure size 640x480 with 1 Axes>"
      ]
     },
     "metadata": {},
     "output_type": "display_data"
    }
   ],
   "source": [
    "plot_tensor2d(voxel_labels.sum(dim=2).unsqueeze(0).cpu())"
   ]
  },
  {
   "cell_type": "code",
   "execution_count": null,
   "id": "7921db7d-517b-43fd-8d59-c56735bc5357",
   "metadata": {},
   "outputs": [],
   "source": []
  },
  {
   "cell_type": "code",
   "execution_count": null,
   "id": "9afa4f14-cb3c-4c7f-9a2c-c1d20a9ba4e5",
   "metadata": {},
   "outputs": [],
   "source": []
  },
  {
   "cell_type": "code",
   "execution_count": null,
   "id": "434c843c-358f-4807-95bf-e2b163f5c5c0",
   "metadata": {},
   "outputs": [],
   "source": []
  },
  {
   "cell_type": "code",
   "execution_count": null,
   "id": "c4c6be5d-3e35-4b34-8ce4-ebe2d6e7967d",
   "metadata": {},
   "outputs": [],
   "source": []
  }
 ],
 "metadata": {
  "kernelspec": {
   "display_name": "Python 3 (ipykernel)",
   "language": "python",
   "name": "python3"
  },
  "language_info": {
   "codemirror_mode": {
    "name": "ipython",
    "version": 3
   },
   "file_extension": ".py",
   "mimetype": "text/x-python",
   "name": "python",
   "nbconvert_exporter": "python",
   "pygments_lexer": "ipython3",
   "version": "3.10.11"
  }
 },
 "nbformat": 4,
 "nbformat_minor": 5
}
